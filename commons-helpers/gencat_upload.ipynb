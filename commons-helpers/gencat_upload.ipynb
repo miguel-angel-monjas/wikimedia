{
 "cells": [
  {
   "cell_type": "markdown",
   "metadata": {},
   "source": [
    "## Commons helper: uploads from gencat.cat\n",
    "\n",
    "This notebook helps users to upload images from the [press room] at `gencat.cat`](http://premsa.gencat.cat/).\n",
    "\n",
    "You can run this notebook from [PAWS](http://paws.wmflabs.org/) or from your own environment.\n",
    "\n",
    "#### Prerequisites (for execution from own environment)\n",
    "- Create a Python 3 virtual environment and activate it.\n",
    "- Install `pywikibot`:\n",
    "```bash\n",
    "pip install pywikibot\n",
    "```\n",
    "- Install `mako`:\n",
    "```bash\n",
    "pip install mako\n",
    "```\n",
    "or:\n",
    "```bash\n",
    "conda install -c anaconda mako\n",
    "```\n",
    "- Create a properly formatted `user-config.py` file.\n",
    "- Launch `jupyter notebook`\n",
    "\n",
    "#### Configuration\n",
    "This notebook takes all the photograms in a given URL (provided that this URL hosts pictures as attachments or inline) and uploads them to commons inserting the proper license templates. The following features are automatically extracted:\n",
    "- **Image name**: The name of the images is taken from the title of attachment. For inline photographs, the image name is taken from the page title.\n",
    "- **Image description**: The description is usually the first paragraph in the page.\n",
    "- **Image date**: The date is extracted from the page date.\n",
    "\n",
    "**However** you can override or update most of them by editing the `config` dictionary in the notebook, add additional categories or determine which images to upload\n",
    "- `url`: This is where the press note is available. This configuration element is **mandatory**.\n",
    "- `categories`: Include here as many categories as you want to assign to all images (for a category for a particular image you must do it afterwards, once uploaded to Commons). If empty, no categories but the automatically detected will be added.\n",
    "- `uploader_category`: If you wish to assign a category for you as uploader, do it here. If empty, no category will be added.\n",
    "- `title`: Include your own name if you don't like the one being extracted. If you assign a title, it will be used as name for all the images, with an autoincremental number appended to the title to distinguish between all the photographs.\n",
    "- `pub_date`: Use the following format: YYYY-MM-DD (i.e. 2018-13-24)\n",
    "- `excluded`: A list with the indices of the pictures you don't wish to upload. Inline images as appended at the end."
   ]
  },
  {
   "cell_type": "code",
   "execution_count": 1,
   "metadata": {
    "collapsed": true
   },
   "outputs": [],
   "source": [
    "#!/usr/bin/python\n",
    "# -*- coding: latin-1 -*-\n",
    "\n",
    "#!/usr/bin/python\n",
    "# -*- coding: latin-1 -*-\n",
    "\n",
    "import pywikibot as pb\n",
    "from pywikibot.specialbots import UploadRobot\n",
    "\n",
    "import requests\n",
    "from requests.compat import quote\n",
    "from bs4 import BeautifulSoup\n",
    "from mako.template import Template\n",
    "\n",
    "import re\n",
    "import shutil\n",
    "import os\n",
    "import imghdr\n",
    "\n",
    "commons_site = pb.Site(\"commons\", \"commons\")"
   ]
  },
  {
   "cell_type": "code",
   "execution_count": 2,
   "metadata": {
    "collapsed": true
   },
   "outputs": [],
   "source": [
    "import sys, inspect\n",
    "current_folder = os.path.realpath(os.path.abspath(os.path.split(inspect.getfile(inspect.currentframe()))[0]))\n",
    "folder_parts = current_folder.split(os.sep)\n",
    "parent_folder = os.sep.join(folder_parts[:-1])\n",
    "\n",
    "if current_folder not in sys.path:\n",
    "    sys.path.insert(0, current_folder)\n",
    "if parent_folder not in sys.path:\n",
    "    sys.path.insert(0, parent_folder)\n",
    "    \n",
    "from wikimedia.utils import is_commons_file, get_hash"
   ]
  },
  {
   "cell_type": "code",
   "execution_count": 3,
   "metadata": {
    "collapsed": true
   },
   "outputs": [],
   "source": [
    "cwd = os.getcwd()\n",
    "\n",
    "images_directory = os.path.join(cwd, 'images')\n",
    "if not os.path.exists(images_directory):\n",
    "    os.makedirs(images_directory)"
   ]
  },
  {
   "cell_type": "code",
   "execution_count": 4,
   "metadata": {
    "collapsed": true
   },
   "outputs": [],
   "source": [
    "# Configuration\n",
    "config = {\n",
    "    'url': 'http://premsa.gencat.cat/pres_fsvp/AppJava/notapremsavw/306260/ca/president-quim-torra-insta-els-consellers-lexili-portaveus-clam-llibertat-dels-catalans.do',\n",
    "    'categories': ['Casa de la República',\n",
    "                   'May 2018 in Belgium',\n",
    "                   'Quim Torra in 2018',\n",
    "                   'Antoni Comín i Oliveres',\n",
    "                   'Lluís Puig i Gordi',\n",
    "                   'Meritxell Serret i Aleu'],\n",
    "    'uploader_category': 'Files uploaded by User:Discasto',\n",
    "    'head_picture': False,\n",
    "    'title': None,\n",
    "    'pub_date': None,\n",
    "    'article_content': None,\n",
    "    'excluded': []\n",
    "}\n",
    "\n",
    "categories = [category for category in (config['categories'] + [config['uploader_category']]) if category]"
   ]
  },
  {
   "cell_type": "code",
   "execution_count": 35,
   "metadata": {
    "collapsed": true
   },
   "outputs": [],
   "source": [
    "# Retrieval of base page for extracting gallery information\n",
    "headers = {\"User-Agent\": \"Mozilla/5.0 (Windows NT 10.0; Win64; x64; rv:57.0) Gecko/20100101 Firefox/57.0\"}\n",
    "r = requests.get(config['url'], headers=headers)\n",
    "soup = BeautifulSoup(r.text, 'html.parser')"
   ]
  },
  {
   "cell_type": "code",
   "execution_count": 36,
   "metadata": {},
   "outputs": [
    {
     "data": {
      "text/plain": [
       "'2018-05-30'"
      ]
     },
     "execution_count": 36,
     "metadata": {},
     "output_type": "execute_result"
    }
   ],
   "source": [
    "# Image date\n",
    "if not config['pub_date']:\n",
    "    pub_date=soup.find_all(\"span\", attrs={\"itemprop\": \"datePublished\"})[0].get_text().strip().split(' ')[0].split('-')\n",
    "    pub_date.reverse()\n",
    "    pub_date='-'.join(pub_date)\n",
    "else:\n",
    "    pub_date = config['pub_date']\n",
    "    \n",
    "pub_date"
   ]
  },
  {
   "cell_type": "code",
   "execution_count": 37,
   "metadata": {},
   "outputs": [
    {
     "data": {
      "text/plain": [
       "'El president Quim Torra insta els consellers a l\\'exili a ser \"portaveus del clam de llibertat dels catalans\"'"
      ]
     },
     "execution_count": 37,
     "metadata": {},
     "output_type": "execute_result"
    }
   ],
   "source": [
    "# Gallery title\n",
    "if not config['title']:\n",
    "    title = soup.find_all(\"h1\", class_=\"FW_headline\")[0].get_text().strip().replace('  ', ' ')\n",
    "else:\n",
    "    title = config['title']\n",
    "title"
   ]
  },
  {
   "cell_type": "code",
   "execution_count": 38,
   "metadata": {},
   "outputs": [
    {
     "data": {
      "text/plain": [
       "'El president Torra, amb els consellers exiliats Meritxell Serret, Lluís Puig i Toni Comín, a Waterloo. Autor: Jordi Bedmar\\r'"
      ]
     },
     "execution_count": 38,
     "metadata": {},
     "output_type": "execute_result"
    }
   ],
   "source": [
    "# Image description\n",
    "if not config['article_content']:\n",
    "    article_content = soup.find_all(\"div\", class_=\"FW_article-content\")[0].get_text().strip().split('\\n')[0]\n",
    "else :\n",
    "    article_content = config['article_content']\n",
    "\n",
    "article_content"
   ]
  },
  {
   "cell_type": "code",
   "execution_count": 39,
   "metadata": {},
   "outputs": [
    {
     "data": {
      "text/plain": [
       "'=={{int:filedesc}}==\\n{{Information\\n|description={{ca|1=El president Torra, amb els consellers exiliats Meritxell Serret, Lluís Puig i Toni Comín, a Waterloo. Autor: Jordi Bedmar\\r}}\\n|date=2018-05-30\\n|source=[http://premsa.gencat.cat/pres_fsvp/AppJava/notapremsavw/306260/ca/president-quim-torra-insta-els-consellers-lexili-portaveus-clam-llibertat-dels-catalans.do Nota de Premsa - El president Quim Torra insta els consellers a l\\'exili a ser \"portaveus del clam de llibertat dels catalans\"]\\n|author=Generalitat de Catalunya\\n|permission=\\n|other versions=\\n}}\\n\\n=={{int:license-header}}==\\n{{LicenseReview}}\\n{{attribution-gencat}}\\n\\n[[Category:Casa de la República]]\\n[[Category:May 2018 in Belgium]]\\n[[Category:Quim Torra in 2018]]\\n[[Category:Antoni Comín i Oliveres]]\\n[[Category:Lluís Puig i Gordi]]\\n[[Category:Meritxell Serret i Aleu]]\\n[[Category:Files uploaded by User:Discasto]]'"
      ]
     },
     "execution_count": 39,
     "metadata": {},
     "output_type": "execute_result"
    }
   ],
   "source": [
    "template = u\"\"\"=={{int:filedesc}}==\n",
    "{{Information\n",
    "|description={{ca|1=${description}}}\n",
    "|date=${date}\n",
    "|source=[${url} Nota de Premsa - ${title}]\n",
    "|author=Generalitat de Catalunya\n",
    "|permission=\n",
    "|other versions=\n",
    "}}\n",
    "\n",
    "=={{int:license-header}}==\n",
    "{{LicenseReview}}\n",
    "{{attribution-gencat}}\n",
    "\n",
    "${cat_string}\"\"\"\n",
    "\n",
    "vars = {\n",
    "    \"url\": config['url'],\n",
    "    \"description\": article_content,\n",
    "    \"date\": pub_date,\n",
    "    \"title\": title,\n",
    "    \"cat_string\": '\\n'.join(['[[Category:'+i+']]' for i in categories])\n",
    "}\n",
    "t = Template(template)\n",
    "_text = t.render(**vars)\n",
    "_text"
   ]
  },
  {
   "cell_type": "code",
   "execution_count": 40,
   "metadata": {},
   "outputs": [
    {
     "data": {
      "text/plain": [
       "[{'url': 'http://www.gencat.cat/big/img/196/BIG_196295520060618_03.jpg',\n",
       "  'name': 'El president Torra, amb els consellers exiliats Toni Comín i Lluís Puig'},\n",
       " {'url': 'http://www.gencat.cat/big/img/324/BIG_324243718060618_03.jpg',\n",
       "  'name': 'El president Torra, amb els consellers exiliats Meritxell Serret, Lluís Puig i Toni Comín'},\n",
       " {'url': 'http://www.gencat.cat/big/img/103/BIG_103313721060618_03.jpg',\n",
       "  'name': 'Atenció als mitjans'},\n",
       " {'url': 'http://www.gencat.cat/big/img/180/BIG_180443109060618_03.jpg',\n",
       "  'name': 'Atenció als mitjans'}]"
      ]
     },
     "execution_count": 40,
     "metadata": {},
     "output_type": "execute_result"
    }
   ],
   "source": [
    "image_list = [{\"url\": image[\"href\"].strip(), \"name\": image[\"title\"].replace(':', ' -').replace('  ', ' ').strip()} for image in soup.find_all(\"a\", class_=\"external\") if ('.jpg' in image['href'].lower() or '.jpeg' in image['href'].lower())]\n",
    "image_list"
   ]
  },
  {
   "cell_type": "code",
   "execution_count": 41,
   "metadata": {},
   "outputs": [
    {
     "data": {
      "text/plain": [
       "[{'url': 'http://www.gencat.cat/big/img/196/BIG_196295520060618_03.jpg',\n",
       "  'name': 'El president Torra, amb els consellers exiliats Toni Comín i Lluís Puig'},\n",
       " {'url': 'http://www.gencat.cat/big/img/324/BIG_324243718060618_03.jpg',\n",
       "  'name': 'El president Torra, amb els consellers exiliats Meritxell Serret, Lluís Puig i Toni Comín'},\n",
       " {'url': 'http://www.gencat.cat/big/img/103/BIG_103313721060618_03.jpg',\n",
       "  'name': 'Atenció als mitjans'},\n",
       " {'url': 'http://www.gencat.cat/big/img/180/BIG_180443109060618_03.jpg',\n",
       "  'name': 'Atenció als mitjans'}]"
      ]
     },
     "execution_count": 41,
     "metadata": {},
     "output_type": "execute_result"
    }
   ],
   "source": [
    "if config['head_picture']:\n",
    "    image_list.extend([{\"url\": item[\"src\"], \"name\": title} for item in soup.find_all(\"img\", class_=\"FW_object-attached\") if item not in soup.find_all(\"img\", class_=\"FW_object-attached_banner\")])\n",
    "image_list"
   ]
  },
  {
   "cell_type": "code",
   "execution_count": 42,
   "metadata": {},
   "outputs": [
    {
     "name": "stdout",
     "output_type": "stream",
     "text": [
      "Preparing to upload image with name El president Torra, amb els consellers exiliats Toni Comín i Lluís Puig.jpg\n"
     ]
    },
    {
     "name": "stderr",
     "output_type": "stream",
     "text": [
      "The suggested description is:\n",
      "=={{int:filedesc}}==\n",
      "{{Information\n",
      "}}escription={{ca|1=El president Torra, amb els consellers exiliats Meritxell Serret, Lluís Puig i Toni Comín, a Waterloo. Autor: Jordi Bedmar\n",
      "|date=2018-05-30\n",
      "|source=[http://premsa.gencat.cat/pres_fsvp/AppJava/notapremsavw/306260/ca/president-quim-torra-insta-els-consellers-lexili-portaveus-clam-llibertat-dels-catalans.do Nota de Premsa - El president Quim Torra insta els consellers a l'exili a ser \"portaveus del clam de llibertat dels catalans\"]\n",
      "|author=Generalitat de Catalunya\n",
      "|permission=\n",
      "|other versions=\n",
      "}}\n",
      "\n",
      "=={{int:license-header}}==\n",
      "{{LicenseReview}}\n",
      "{{attribution-gencat}}\n",
      "\n",
      "[[Category:Casa de la República]]\n",
      "[[Category:May 2018 in Belgium]]\n",
      "[[Category:Quim Torra in 2018]]\n",
      "[[Category:Antoni Comín i Oliveres]]\n",
      "[[Category:Lluís Puig i Gordi]]\n",
      "[[Category:Meritxell Serret i Aleu]]\n",
      "[[Category:Files uploaded by User:Discasto]]\n",
      "Uploading file to commons:commons...\n",
      "Upload successful.\n",
      "Upload of El president Torra, amb els consellers exiliats Toni Comín i Lluís Puig.jpg successful.\n",
      "\n",
      "1 pages read\n",
      "1 pages written\n",
      "Script terminated successfully.\n"
     ]
    },
    {
     "name": "stdout",
     "output_type": "stream",
     "text": [
      "Preparing to upload image with name El president Torra, amb els consellers exiliats Meritxell Serret, Lluís Puig i Toni Comín.jpg\n"
     ]
    },
    {
     "name": "stderr",
     "output_type": "stream",
     "text": [
      "The suggested description is:\n",
      "=={{int:filedesc}}==\n",
      "{{Information\n",
      "}}escription={{ca|1=El president Torra, amb els consellers exiliats Meritxell Serret, Lluís Puig i Toni Comín, a Waterloo. Autor: Jordi Bedmar\n",
      "|date=2018-05-30\n",
      "|source=[http://premsa.gencat.cat/pres_fsvp/AppJava/notapremsavw/306260/ca/president-quim-torra-insta-els-consellers-lexili-portaveus-clam-llibertat-dels-catalans.do Nota de Premsa - El president Quim Torra insta els consellers a l'exili a ser \"portaveus del clam de llibertat dels catalans\"]\n",
      "|author=Generalitat de Catalunya\n",
      "|permission=\n",
      "|other versions=\n",
      "}}\n",
      "\n",
      "=={{int:license-header}}==\n",
      "{{LicenseReview}}\n",
      "{{attribution-gencat}}\n",
      "\n",
      "[[Category:Casa de la República]]\n",
      "[[Category:May 2018 in Belgium]]\n",
      "[[Category:Quim Torra in 2018]]\n",
      "[[Category:Antoni Comín i Oliveres]]\n",
      "[[Category:Lluís Puig i Gordi]]\n",
      "[[Category:Meritxell Serret i Aleu]]\n",
      "[[Category:Files uploaded by User:Discasto]]\n",
      "Uploading file to commons:commons...\n",
      "Sleeping for 4.0 seconds, 2018-06-10 23:21:05\n",
      "Upload successful.\n",
      "Upload of El president Torra, amb els consellers exiliats Meritxell Serret, Lluís Puig i Toni Comín.jpg successful.\n",
      "\n",
      "1 pages read\n",
      "1 pages written\n",
      "Script terminated successfully.\n"
     ]
    },
    {
     "name": "stdout",
     "output_type": "stream",
     "text": [
      "Preparing to upload image with name Atenció als mitjans.jpg\n"
     ]
    },
    {
     "name": "stderr",
     "output_type": "stream",
     "text": [
      "The suggested description is:\n",
      "=={{int:filedesc}}==\n",
      "{{Information\n",
      "}}escription={{ca|1=El president Torra, amb els consellers exiliats Meritxell Serret, Lluís Puig i Toni Comín, a Waterloo. Autor: Jordi Bedmar\n",
      "|date=2018-05-30\n",
      "|source=[http://premsa.gencat.cat/pres_fsvp/AppJava/notapremsavw/306260/ca/president-quim-torra-insta-els-consellers-lexili-portaveus-clam-llibertat-dels-catalans.do Nota de Premsa - El president Quim Torra insta els consellers a l'exili a ser \"portaveus del clam de llibertat dels catalans\"]\n",
      "|author=Generalitat de Catalunya\n",
      "|permission=\n",
      "|other versions=\n",
      "}}\n",
      "\n",
      "=={{int:license-header}}==\n",
      "{{LicenseReview}}\n",
      "{{attribution-gencat}}\n",
      "\n",
      "[[Category:Casa de la República]]\n",
      "[[Category:May 2018 in Belgium]]\n",
      "[[Category:Quim Torra in 2018]]\n",
      "[[Category:Antoni Comín i Oliveres]]\n",
      "[[Category:Lluís Puig i Gordi]]\n",
      "[[Category:Meritxell Serret i Aleu]]\n",
      "[[Category:Files uploaded by User:Discasto]]\n",
      "Uploading file to commons:commons...\n",
      "Sleeping for 5.1 seconds, 2018-06-10 23:21:14\n",
      "Upload successful.\n",
      "Upload of Atenció als mitjans.jpg successful.\n",
      "\n",
      "1 pages read\n",
      "1 pages written\n",
      "Script terminated successfully.\n"
     ]
    },
    {
     "name": "stdout",
     "output_type": "stream",
     "text": [
      "Image name (Atenció als mitjans.jpg) already used in Commons\n",
      "Preparing to upload image with name Atenció als mitjans 01.jpg\n"
     ]
    },
    {
     "name": "stderr",
     "output_type": "stream",
     "text": [
      "The suggested description is:\n",
      "=={{int:filedesc}}==\n",
      "{{Information\n",
      "}}escription={{ca|1=El president Torra, amb els consellers exiliats Meritxell Serret, Lluís Puig i Toni Comín, a Waterloo. Autor: Jordi Bedmar\n",
      "|date=2018-05-30\n",
      "|source=[http://premsa.gencat.cat/pres_fsvp/AppJava/notapremsavw/306260/ca/president-quim-torra-insta-els-consellers-lexili-portaveus-clam-llibertat-dels-catalans.do Nota de Premsa - El president Quim Torra insta els consellers a l'exili a ser \"portaveus del clam de llibertat dels catalans\"]\n",
      "|author=Generalitat de Catalunya\n",
      "|permission=\n",
      "|other versions=\n",
      "}}\n",
      "\n",
      "=={{int:license-header}}==\n",
      "{{LicenseReview}}\n",
      "{{attribution-gencat}}\n",
      "\n",
      "[[Category:Casa de la República]]\n",
      "[[Category:May 2018 in Belgium]]\n",
      "[[Category:Quim Torra in 2018]]\n",
      "[[Category:Antoni Comín i Oliveres]]\n",
      "[[Category:Lluís Puig i Gordi]]\n",
      "[[Category:Meritxell Serret i Aleu]]\n",
      "[[Category:Files uploaded by User:Discasto]]\n",
      "Uploading file to commons:commons...\n",
      "Upload successful.\n",
      "Upload of Atenció als mitjans 01.jpg successful.\n",
      "\n",
      "1 pages read\n",
      "1 pages written\n",
      "Script terminated successfully.\n"
     ]
    }
   ],
   "source": [
    "# Image retrieval and upload to Commons\n",
    "excluded = config['excluded']\n",
    "\n",
    "used_names = []\n",
    "for i, image in enumerate(image_list):\n",
    "    # If the image is excluded, skip\n",
    "    if i in excluded:\n",
    "        print (\"Image excluded. Skipping\")\n",
    "        continue\n",
    "        \n",
    "    # First, the image is downloaded and stored\n",
    "    image_url = quote(image[\"url\"].encode('utf-8'), ':/')\n",
    "    image_name = image[\"name\"].replace(':', ' -').replace('  ', ' ') + '.jpg'\n",
    "    image_path = os.path.join(images_directory, image_name)\n",
    "    try: \n",
    "        r = requests.get(image_url, headers=headers, stream=True)\n",
    "        with open(image_path, 'wb') as out_file:\n",
    "            shutil.copyfileobj(r.raw, out_file)\n",
    "        # hack for PNG files wrongly given the JPG extension\n",
    "        if imghdr.what(image_path) == \"png\":\n",
    "            os.rename(image_path, image_path.replace(\"jpg\", \"png\"))\n",
    "            image_path = image_path.replace(\"jpg\", \"png\")\n",
    "            image_name = image_name.replace(\"jpg\", \"png\")\n",
    "    except Exception as e:\n",
    "        print (e)\n",
    "        print ('Failed download. Skipping')\n",
    "        continue\n",
    "\n",
    "    # If the image is already in Commons, skip\n",
    "    if is_commons_file(get_hash(image_path)) :\n",
    "        print (\"Image already in commons. Skipping\")\n",
    "        os.remove(image_path)\n",
    "        continue\n",
    "\n",
    "    # If the image name is already in commons, find a new name\n",
    "    if pb.Page(commons_site, image_name, ns=6).exists():\n",
    "        print (\"Image name ({0}) already used in Commons\".format(image_name))\n",
    "        used_names.append(image_name)\n",
    "        \n",
    "    while True:\n",
    "        if image_name in used_names :\n",
    "            # Finding a new name\n",
    "            image_subject = '.'.join(image_name.split('.')[:-1])\n",
    "            image_extension = 'jpg'\n",
    "            p = re.compile('(.*) ([0-9]{2}\\.jpg)')\n",
    "            m = p.match(image_name)\n",
    "            if m is None:\n",
    "                image_name = image_subject + ' 01.' + image_extension\n",
    "            else :\n",
    "                counter = int(m.group(2)[:2]) + 1\n",
    "                image_name = '{} {:02d}.{}'.format(m.group(1), counter, image_extension)\n",
    "\n",
    "            if pb.Page(commons_site, image_name, ns=6).exists():\n",
    "                print (\"Image name ({0}) already used in Commons. Finding a new name\".format(image_name))\n",
    "                used_names.append(image_name)\n",
    "        else :\n",
    "            print (\"Preparing to upload image with name {0}\".format(image_name))\n",
    "            used_names.append(image_name)\n",
    "            break\n",
    "\n",
    "    # image upload\n",
    "    bot = UploadRobot([image_path],\n",
    "                      description = _text,\n",
    "                      useFilename = image_name,\n",
    "                      keepFilename = True,\n",
    "                      verifyDescription = False,\n",
    "                      ignoreWarning = True,\n",
    "                      targetSite = commons_site)\n",
    "    bot.run()\n",
    "    os.remove(image_path)"
   ]
  },
  {
   "cell_type": "code",
   "execution_count": null,
   "metadata": {
    "collapsed": true
   },
   "outputs": [],
   "source": []
  }
 ],
 "metadata": {
  "kernelspec": {
   "display_name": "Python 3",
   "language": "python",
   "name": "python3"
  },
  "language_info": {
   "codemirror_mode": {
    "name": "ipython",
    "version": 3
   },
   "file_extension": ".py",
   "mimetype": "text/x-python",
   "name": "python",
   "nbconvert_exporter": "python",
   "pygments_lexer": "ipython3",
   "version": "3.6.3"
  }
 },
 "nbformat": 4,
 "nbformat_minor": 2
}
