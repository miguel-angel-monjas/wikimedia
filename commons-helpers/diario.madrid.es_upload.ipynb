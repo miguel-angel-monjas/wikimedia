{
 "cells": [
  {
   "cell_type": "code",
   "execution_count": 1,
   "metadata": {
    "collapsed": true
   },
   "outputs": [],
   "source": [
    "#!/usr/bin/python\n",
    "# -*- coding: utf-8 -*-\n",
    "\n",
    "import pywikibot as pb\n",
    "from pywikibot.specialbots import UploadRobot\n",
    "\n",
    "import requests\n",
    "from requests.compat import quote\n",
    "from bs4 import BeautifulSoup\n",
    "from mako.template import Template\n",
    "\n",
    "import os, re\n",
    "import shutil\n",
    "import calendar\n",
    "\n",
    "commons_site = pb.Site(\"commons\", \"commons\")"
   ]
  },
  {
   "cell_type": "code",
   "execution_count": 2,
   "metadata": {
    "collapsed": true
   },
   "outputs": [],
   "source": [
    "# Path handling for importing utils.py\n",
    "import sys, inspect\n",
    "current_folder = os.path.realpath(os.path.abspath(os.path.split(inspect.getfile(inspect.currentframe()))[0]))\n",
    "folder_parts = current_folder.split(os.sep)\n",
    "parent_folder = os.sep.join(folder_parts[:-1])\n",
    "\n",
    "if current_folder not in sys.path:\n",
    "    sys.path.insert(0, current_folder)\n",
    "if parent_folder not in sys.path:\n",
    "    sys.path.insert(0, parent_folder)\n",
    "    \n",
    "from wikimedia.utils import is_commons_file, get_hash"
   ]
  },
  {
   "cell_type": "code",
   "execution_count": 3,
   "metadata": {
    "collapsed": true
   },
   "outputs": [],
   "source": [
    "# Creation of images folder\n",
    "cwd = os.getcwd()\n",
    "\n",
    "images_directory = os.path.join(cwd, 'images')\n",
    "if not os.path.exists(images_directory):\n",
    "    os.makedirs(images_directory)"
   ]
  },
  {
   "cell_type": "code",
   "execution_count": 36,
   "metadata": {
    "collapsed": true
   },
   "outputs": [],
   "source": [
    "#### User input:\n",
    "url = 'https://diario.madrid.es/blog/notas-de-prensa/el-ayuntamiento-homenajea-con-una-calle-a-soledad-cazorla-impulsora-de-la-ley-contra-la-violencia-de-genero/'\n",
    "\n",
    "user_agent = 'Mozilla/5.0 (Windows NT 6.1; WOW64; rv:40.0) Gecko/20100101 Firefox/40.1'\n",
    "headers = {'User-Agent' : user_agent}\n",
    "\n",
    "#### User input:\n",
    "categories = ['Calle de Soledad Cazorla, Madrid',\n",
    "              'Francisca Sauquillo',\n",
    "              'Celia Mayer',\n",
    "              'Purificación Causapié',\n",
    "              'Carlos Mato',\n",
    "              'Mar Espinar']"
   ]
  },
  {
   "cell_type": "code",
   "execution_count": 37,
   "metadata": {},
   "outputs": [
    {
     "data": {
      "text/plain": [
       "['Calle de Soledad Cazorla, Madrid',\n",
       " 'Francisca Sauquillo',\n",
       " 'Celia Mayer',\n",
       " 'Purificación Causapié',\n",
       " 'Carlos Mato',\n",
       " 'Mar Espinar',\n",
       " 'Files uploaded by User:Discasto']"
      ]
     },
     "execution_count": 37,
     "metadata": {},
     "output_type": "execute_result"
    }
   ],
   "source": [
    "#### User input:\n",
    "upload_categories = ['Files uploaded by User:Discasto']\n",
    "categories = categories + upload_categories\n",
    "categories"
   ]
  },
  {
   "cell_type": "code",
   "execution_count": 38,
   "metadata": {
    "collapsed": true
   },
   "outputs": [],
   "source": [
    "r = requests.get(url, headers=headers)\n",
    "soup = BeautifulSoup(r.text, 'html.parser')"
   ]
  },
  {
   "cell_type": "code",
   "execution_count": 39,
   "metadata": {},
   "outputs": [
    {
     "data": {
      "text/plain": [
       "'El Ayuntamiento homenajea con una calle a Soledad Cazorla, impulsora de la ley contra la violencia de género'"
      ]
     },
     "execution_count": 39,
     "metadata": {},
     "output_type": "execute_result"
    }
   ],
   "source": [
    "title = soup.find_all(\"h1\", class_=\"post-title\")[0].get_text().strip().replace('  ', ' ')\n",
    "title"
   ]
  },
  {
   "cell_type": "code",
   "execution_count": 40,
   "metadata": {},
   "outputs": [
    {
     "data": {
      "text/plain": [
       "'2018-06-10'"
      ]
     },
     "execution_count": 40,
     "metadata": {},
     "output_type": "execute_result"
    }
   ],
   "source": [
    "date = '-'.join(soup.find_all(\"div\", class_=\"post-date\")[0].get_text().strip().split('/')[::-1])\n",
    "#date = \"\"\n",
    "year = date.split('-')[0]\n",
    "month = calendar.month_name[int(date.split('-')[1])]\n",
    "date"
   ]
  },
  {
   "cell_type": "code",
   "execution_count": 41,
   "metadata": {},
   "outputs": [
    {
     "data": {
      "text/plain": [
       "'El Ayuntamiento de Madrid ha rendido homenaje este domingo a Soledad Cazorla, la primera mujer fiscal de sala contra la violencia sobre la mujer, en la calle bautizada recientemente con su nombre. Con rosas blancas, las flores preferidas de la jurista, y un poema ha concluido un acto al que acudieron niños y niñas becadas a través del Fondo Soledad Cazorla para menores víctimas de la violencia machista.'"
      ]
     },
     "execution_count": 41,
     "metadata": {},
     "output_type": "execute_result"
    }
   ],
   "source": [
    "body = soup.find_all(\"div\", class_=\"post-content\")\n",
    "p_description = body[0].find_all(\"p\")\n",
    "for p in p_description :\n",
    "    if len(p.get_text()) > 10:\n",
    "        description = p.get_text()\n",
    "        break\n",
    "#description=u'Una delegación del Ayuntamiento de Madrid asiste a la manifestación de Barcelona en contra de los atentados terroristas, presidida por Manuela Carmena, y con representación de todos los grupos políticos municipales. Esta representación municipal ha estado compuesta por la portavoz del gobierno municipal, Rita Maestre: el delegado de Coordinación Territorial y Cooperación Público-Social y concejal del Grupo Municipal Ahora Madrid, Nacho Murgui; la concejala y delegada del portavoz del Grupo Municipal Partido Popular, Isabel Rosell; el concejal y delegado de la portavoz del Grupo Municipal Socialista, Ignacio de Benito y la portavoz del Grupo Municipal Ciudadanos-Partido de la Ciudadanía, Begoña Villacís.\\n\"Madrid como ciudad está aquí, con Barcelona, por solidaridad y por la necesidad de expresar la protesta que significan los actos de esta barbarie, para hacer posible que no se vuelvan a repetir\", ha dicho la alcaldesa a su llegada a la capital catalana.'\n",
    "description"
   ]
  },
  {
   "cell_type": "code",
   "execution_count": 42,
   "metadata": {},
   "outputs": [
    {
     "data": {
      "text/plain": [
       "'=={{int:filedesc}}==\\n{{Information\\n|description={{es|1=El Ayuntamiento de Madrid ha rendido homenaje este domingo a Soledad Cazorla, la primera mujer fiscal de sala contra la violencia sobre la mujer, en la calle bautizada recientemente con su nombre. Con rosas blancas, las flores preferidas de la jurista, y un poema ha concluido un acto al que acudieron niños y niñas becadas a través del Fondo Soledad Cazorla para menores víctimas de la violencia machista.}}\\n|date=2018-06-10\\n|source=[https://diario.madrid.es/blog/notas-de-prensa/el-ayuntamiento-homenajea-con-una-calle-a-soledad-cazorla-impulsora-de-la-ley-contra-la-violencia-de-genero/ Diario de Madrid - El Ayuntamiento homenajea con una calle a Soledad Cazorla, impulsora de la ley contra la violencia de género]\\n|author=[https://diario.madrid.es/ Diario de Madrid]\\n|permission=[https://diario.madrid.es/contenidos-libres/ License information for all contents in diario.madrid.es]\\n|other versions=\\n}}\\n\\n=={{int:license-header}}==\\n{{Diario de Madrid}}\\n\\n[[Category:Images from Ayuntamiento de Madrid (to classify)]]\\n[[Category:June 2018 in Madrid]]\\n[[Category:Calle de Soledad Cazorla, Madrid]]\\n[[Category:Francisca Sauquillo]]\\n[[Category:Celia Mayer]]\\n[[Category:Purificación Causapié]]\\n[[Category:Carlos Mato]]\\n[[Category:Mar Espinar]]\\n[[Category:Files uploaded by User:Discasto]]'"
      ]
     },
     "execution_count": 42,
     "metadata": {},
     "output_type": "execute_result"
    }
   ],
   "source": [
    "template = u\"\"\"=={{int:filedesc}}==\n",
    "{{Information\n",
    "|description={{es|1=${description}}}\n",
    "|date=${date}\n",
    "|source=[${url} Diario de Madrid - ${title}]\n",
    "|author=[https://diario.madrid.es/ Diario de Madrid]\n",
    "|permission=[https://diario.madrid.es/contenidos-libres/ License information for all contents in diario.madrid.es]\n",
    "|other versions=\n",
    "}}\n",
    "\n",
    "=={{int:license-header}}==\n",
    "{{Diario de Madrid}}\n",
    "\n",
    "[[Category:Images from Ayuntamiento de Madrid (to classify)]]\n",
    "[[Category:${month} ${year} in Madrid]]\n",
    "${cat_string}\"\"\"\n",
    "\n",
    "vars = {\n",
    "    \"url\": url,\n",
    "    \"description\": description,\n",
    "    \"year\": year,\n",
    "    \"month\": month,\n",
    "    \"date\": date,\n",
    "    \"title\": title,\n",
    "    \"cat_string\": '\\n'.join(['[[Category:'+i+']]' for i in categories])\n",
    "}\n",
    "t = Template(template)\n",
    "_text = t.render(**vars)\n",
    "_text"
   ]
  },
  {
   "cell_type": "code",
   "execution_count": 43,
   "metadata": {},
   "outputs": [
    {
     "data": {
      "text/plain": [
       "['https://diario.madrid.es/wp-content/uploads/2018/06/cazorla1-1189x1000.jpg',\n",
       " 'https://diario.madrid.es/wp-content/uploads/2018/06/cazorla2-1500x990.jpg',\n",
       " 'https://diario.madrid.es/wp-content/uploads/2018/06/cazorla4-1424x1000.jpg',\n",
       " 'https://diario.madrid.es/wp-content/uploads/2018/06/cazorla5-1333x1000.jpg',\n",
       " 'https://diario.madrid.es/wp-content/uploads/2018/06/Cazorla6.jpg']"
      ]
     },
     "execution_count": 43,
     "metadata": {},
     "output_type": "execute_result"
    }
   ],
   "source": [
    "images = [image.a[\"href\"] for image in soup.find_all(\"div\", class_=\"gallery-icon\")]\n",
    "images"
   ]
  },
  {
   "cell_type": "code",
   "execution_count": 44,
   "metadata": {},
   "outputs": [
    {
     "name": "stdout",
     "output_type": "stream",
     "text": [
      "Preparing to upload image with name El Ayuntamiento homenajea con una calle a Soledad Cazorla, impulsora de la ley contra la violencia de género 01.jpg\n"
     ]
    },
    {
     "name": "stderr",
     "output_type": "stream",
     "text": [
      "The suggested description is:\n",
      "=={{int:filedesc}}==\n",
      "{{Information\n",
      "|description={{es|1=El Ayuntamiento de Madrid ha rendido homenaje este domingo a Soledad Cazorla, la primera mujer fiscal de sala contra la violencia sobre la mujer, en la calle bautizada recientemente con su nombre. Con rosas blancas, las flores preferidas de la jurista, y un poema ha concluido un acto al que acudieron niños y niñas becadas a través del Fondo Soledad Cazorla para menores víctimas de la violencia machista.}}\n",
      "|date=2018-06-10\n",
      "|source=[https://diario.madrid.es/blog/notas-de-prensa/el-ayuntamiento-homenajea-con-una-calle-a-soledad-cazorla-impulsora-de-la-ley-contra-la-violencia-de-genero/ Diario de Madrid - El Ayuntamiento homenajea con una calle a Soledad Cazorla, impulsora de la ley contra la violencia de género]\n",
      "|author=[https://diario.madrid.es/ Diario de Madrid]\n",
      "|permission=[https://diario.madrid.es/contenidos-libres/ License information for all contents in diario.madrid.es]\n",
      "|other versions=\n",
      "}}\n",
      "\n",
      "=={{int:license-header}}==\n",
      "{{Diario de Madrid}}\n",
      "\n",
      "[[Category:Images from Ayuntamiento de Madrid (to classify)]]\n",
      "[[Category:June 2018 in Madrid]]\n",
      "[[Category:Calle de Soledad Cazorla, Madrid]]\n",
      "[[Category:Francisca Sauquillo]]\n",
      "[[Category:Celia Mayer]]\n",
      "[[Category:Purificación Causapié]]\n",
      "[[Category:Carlos Mato]]\n",
      "[[Category:Mar Espinar]]\n",
      "[[Category:Files uploaded by User:Discasto]]\n",
      "Uploading file to commons:commons...\n",
      "Upload successful.\n",
      "Upload of El Ayuntamiento homenajea con una calle a Soledad Cazorla, impulsora de la ley contra la violencia de género 01.jpg successful.\n",
      "\n",
      "1 pages read\n",
      "1 pages written\n",
      "Script terminated successfully.\n"
     ]
    },
    {
     "name": "stdout",
     "output_type": "stream",
     "text": [
      "Image name (El Ayuntamiento homenajea con una calle a Soledad Cazorla, impulsora de la ley contra la violencia de género 01.jpg) already used in Commons\n",
      "Preparing to upload image with name El Ayuntamiento homenajea con una calle a Soledad Cazorla, impulsora de la ley contra la violencia de género 02.jpg\n"
     ]
    },
    {
     "name": "stderr",
     "output_type": "stream",
     "text": [
      "The suggested description is:\n",
      "=={{int:filedesc}}==\n",
      "{{Information\n",
      "|description={{es|1=El Ayuntamiento de Madrid ha rendido homenaje este domingo a Soledad Cazorla, la primera mujer fiscal de sala contra la violencia sobre la mujer, en la calle bautizada recientemente con su nombre. Con rosas blancas, las flores preferidas de la jurista, y un poema ha concluido un acto al que acudieron niños y niñas becadas a través del Fondo Soledad Cazorla para menores víctimas de la violencia machista.}}\n",
      "|date=2018-06-10\n",
      "|source=[https://diario.madrid.es/blog/notas-de-prensa/el-ayuntamiento-homenajea-con-una-calle-a-soledad-cazorla-impulsora-de-la-ley-contra-la-violencia-de-genero/ Diario de Madrid - El Ayuntamiento homenajea con una calle a Soledad Cazorla, impulsora de la ley contra la violencia de género]\n",
      "|author=[https://diario.madrid.es/ Diario de Madrid]\n",
      "|permission=[https://diario.madrid.es/contenidos-libres/ License information for all contents in diario.madrid.es]\n",
      "|other versions=\n",
      "}}\n",
      "\n",
      "=={{int:license-header}}==\n",
      "{{Diario de Madrid}}\n",
      "\n",
      "[[Category:Images from Ayuntamiento de Madrid (to classify)]]\n",
      "[[Category:June 2018 in Madrid]]\n",
      "[[Category:Calle de Soledad Cazorla, Madrid]]\n",
      "[[Category:Francisca Sauquillo]]\n",
      "[[Category:Celia Mayer]]\n",
      "[[Category:Purificación Causapié]]\n",
      "[[Category:Carlos Mato]]\n",
      "[[Category:Mar Espinar]]\n",
      "[[Category:Files uploaded by User:Discasto]]\n",
      "Uploading file to commons:commons...\n",
      "Sleeping for 5.9 seconds, 2018-06-12 00:47:24\n",
      "Upload successful.\n",
      "Upload of El Ayuntamiento homenajea con una calle a Soledad Cazorla, impulsora de la ley contra la violencia de género 02.jpg successful.\n",
      "\n",
      "1 pages read\n",
      "1 pages written\n",
      "Script terminated successfully.\n"
     ]
    },
    {
     "name": "stdout",
     "output_type": "stream",
     "text": [
      "Preparing to upload image with name El Ayuntamiento homenajea con una calle a Soledad Cazorla, impulsora de la ley contra la violencia de género 03.jpg\n"
     ]
    },
    {
     "name": "stderr",
     "output_type": "stream",
     "text": [
      "The suggested description is:\n",
      "=={{int:filedesc}}==\n",
      "{{Information\n",
      "|description={{es|1=El Ayuntamiento de Madrid ha rendido homenaje este domingo a Soledad Cazorla, la primera mujer fiscal de sala contra la violencia sobre la mujer, en la calle bautizada recientemente con su nombre. Con rosas blancas, las flores preferidas de la jurista, y un poema ha concluido un acto al que acudieron niños y niñas becadas a través del Fondo Soledad Cazorla para menores víctimas de la violencia machista.}}\n",
      "|date=2018-06-10\n",
      "|source=[https://diario.madrid.es/blog/notas-de-prensa/el-ayuntamiento-homenajea-con-una-calle-a-soledad-cazorla-impulsora-de-la-ley-contra-la-violencia-de-genero/ Diario de Madrid - El Ayuntamiento homenajea con una calle a Soledad Cazorla, impulsora de la ley contra la violencia de género]\n",
      "|author=[https://diario.madrid.es/ Diario de Madrid]\n",
      "|permission=[https://diario.madrid.es/contenidos-libres/ License information for all contents in diario.madrid.es]\n",
      "|other versions=\n",
      "}}\n",
      "\n",
      "=={{int:license-header}}==\n",
      "{{Diario de Madrid}}\n",
      "\n",
      "[[Category:Images from Ayuntamiento de Madrid (to classify)]]\n",
      "[[Category:June 2018 in Madrid]]\n",
      "[[Category:Calle de Soledad Cazorla, Madrid]]\n",
      "[[Category:Francisca Sauquillo]]\n",
      "[[Category:Celia Mayer]]\n",
      "[[Category:Purificación Causapié]]\n",
      "[[Category:Carlos Mato]]\n",
      "[[Category:Mar Espinar]]\n",
      "[[Category:Files uploaded by User:Discasto]]\n",
      "Uploading file to commons:commons...\n",
      "Sleeping for 6.3 seconds, 2018-06-12 00:47:34\n",
      "Upload successful.\n",
      "Upload of El Ayuntamiento homenajea con una calle a Soledad Cazorla, impulsora de la ley contra la violencia de género 03.jpg successful.\n",
      "\n",
      "1 pages read\n",
      "1 pages written\n",
      "Script terminated successfully.\n"
     ]
    },
    {
     "name": "stdout",
     "output_type": "stream",
     "text": [
      "Image name (El Ayuntamiento homenajea con una calle a Soledad Cazorla, impulsora de la ley contra la violencia de género 03.jpg) already used in Commons\n",
      "Preparing to upload image with name El Ayuntamiento homenajea con una calle a Soledad Cazorla, impulsora de la ley contra la violencia de género 04.jpg\n"
     ]
    },
    {
     "name": "stderr",
     "output_type": "stream",
     "text": [
      "The suggested description is:\n",
      "=={{int:filedesc}}==\n",
      "{{Information\n",
      "|description={{es|1=El Ayuntamiento de Madrid ha rendido homenaje este domingo a Soledad Cazorla, la primera mujer fiscal de sala contra la violencia sobre la mujer, en la calle bautizada recientemente con su nombre. Con rosas blancas, las flores preferidas de la jurista, y un poema ha concluido un acto al que acudieron niños y niñas becadas a través del Fondo Soledad Cazorla para menores víctimas de la violencia machista.}}\n",
      "|date=2018-06-10\n",
      "|source=[https://diario.madrid.es/blog/notas-de-prensa/el-ayuntamiento-homenajea-con-una-calle-a-soledad-cazorla-impulsora-de-la-ley-contra-la-violencia-de-genero/ Diario de Madrid - El Ayuntamiento homenajea con una calle a Soledad Cazorla, impulsora de la ley contra la violencia de género]\n",
      "|author=[https://diario.madrid.es/ Diario de Madrid]\n",
      "|permission=[https://diario.madrid.es/contenidos-libres/ License information for all contents in diario.madrid.es]\n",
      "|other versions=\n",
      "}}\n",
      "\n",
      "=={{int:license-header}}==\n",
      "{{Diario de Madrid}}\n",
      "\n",
      "[[Category:Images from Ayuntamiento de Madrid (to classify)]]\n",
      "[[Category:June 2018 in Madrid]]\n",
      "[[Category:Calle de Soledad Cazorla, Madrid]]\n",
      "[[Category:Francisca Sauquillo]]\n",
      "[[Category:Celia Mayer]]\n",
      "[[Category:Purificación Causapié]]\n",
      "[[Category:Carlos Mato]]\n",
      "[[Category:Mar Espinar]]\n",
      "[[Category:Files uploaded by User:Discasto]]\n",
      "Uploading file to commons:commons...\n",
      "Sleeping for 5.5 seconds, 2018-06-12 00:47:45\n",
      "Upload successful.\n",
      "Upload of El Ayuntamiento homenajea con una calle a Soledad Cazorla, impulsora de la ley contra la violencia de género 04.jpg successful.\n",
      "\n",
      "1 pages read\n",
      "1 pages written\n",
      "Script terminated successfully.\n"
     ]
    },
    {
     "name": "stdout",
     "output_type": "stream",
     "text": [
      "Preparing to upload image with name El Ayuntamiento homenajea con una calle a Soledad Cazorla, impulsora de la ley contra la violencia de género 05.jpg\n"
     ]
    },
    {
     "name": "stderr",
     "output_type": "stream",
     "text": [
      "The suggested description is:\n",
      "=={{int:filedesc}}==\n",
      "{{Information\n",
      "|description={{es|1=El Ayuntamiento de Madrid ha rendido homenaje este domingo a Soledad Cazorla, la primera mujer fiscal de sala contra la violencia sobre la mujer, en la calle bautizada recientemente con su nombre. Con rosas blancas, las flores preferidas de la jurista, y un poema ha concluido un acto al que acudieron niños y niñas becadas a través del Fondo Soledad Cazorla para menores víctimas de la violencia machista.}}\n",
      "|date=2018-06-10\n",
      "|source=[https://diario.madrid.es/blog/notas-de-prensa/el-ayuntamiento-homenajea-con-una-calle-a-soledad-cazorla-impulsora-de-la-ley-contra-la-violencia-de-genero/ Diario de Madrid - El Ayuntamiento homenajea con una calle a Soledad Cazorla, impulsora de la ley contra la violencia de género]\n",
      "|author=[https://diario.madrid.es/ Diario de Madrid]\n",
      "|permission=[https://diario.madrid.es/contenidos-libres/ License information for all contents in diario.madrid.es]\n",
      "|other versions=\n",
      "}}\n",
      "\n",
      "=={{int:license-header}}==\n",
      "{{Diario de Madrid}}\n",
      "\n",
      "[[Category:Images from Ayuntamiento de Madrid (to classify)]]\n",
      "[[Category:June 2018 in Madrid]]\n",
      "[[Category:Calle de Soledad Cazorla, Madrid]]\n",
      "[[Category:Francisca Sauquillo]]\n",
      "[[Category:Celia Mayer]]\n",
      "[[Category:Purificación Causapié]]\n",
      "[[Category:Carlos Mato]]\n",
      "[[Category:Mar Espinar]]\n",
      "[[Category:Files uploaded by User:Discasto]]\n",
      "Uploading file to commons:commons...\n",
      "Sleeping for 6.4 seconds, 2018-06-12 00:47:54\n",
      "Upload successful.\n",
      "Upload of El Ayuntamiento homenajea con una calle a Soledad Cazorla, impulsora de la ley contra la violencia de género 05.jpg successful.\n",
      "\n",
      "1 pages read\n",
      "1 pages written\n",
      "Script terminated successfully.\n"
     ]
    }
   ],
   "source": [
    "#### User input:\n",
    "excluded = []\n",
    "\n",
    "used_names = []\n",
    "counter = 0\n",
    "\n",
    "for i, image in enumerate(images):\n",
    "    # If the image is excluded, skip\n",
    "    if i in excluded:\n",
    "        print (\"Image excluded. Skipping\")\n",
    "        continue\n",
    "        \n",
    "    # First, the image is downloaded and stored\n",
    "    image_url = quote(image.encode('utf-8'), ':/')\n",
    "    image_name = '{} {:02d}.jpg'.format(title.replace(':', ' -').replace('  ', ' '), counter+1)\n",
    "    image_path = os.path.join(images_directory, image_name)\n",
    "    try: \n",
    "        r = requests.get(image_url, headers=headers, stream=True)\n",
    "        with open(image_path, 'wb') as out_file:\n",
    "            shutil.copyfileobj(r.raw, out_file)\n",
    "    except :\n",
    "        print ('Failed download. Skipping')\n",
    "        continue\n",
    "\n",
    "    # If the image is already in Commons, skip\n",
    "    if is_commons_file(get_hash(image_path)) :\n",
    "        print (\"Image already in commons. Skipping\")\n",
    "        os.remove(image_path)\n",
    "        continue\n",
    "\n",
    "    # If the image name is already in commons, find a new name\n",
    "    if pb.Page(commons_site, image_name, ns=6).exists():\n",
    "        print (\"Image name ({0}) already used in Commons\".format(image_name))\n",
    "        used_names.append(image_name)\n",
    "        \n",
    "    while True:\n",
    "        if image_name in used_names :\n",
    "            # Finding a new name\n",
    "            image_subject = '.'.join(image_name.split('.')[:-1])\n",
    "            image_extension = 'jpg'\n",
    "            p = re.compile('(.*) ([0-9]{2}\\.jpg)')\n",
    "            m = p.match(image_name)\n",
    "            if m is None:\n",
    "                image_name = image_subject + ' 01.' + image_extension\n",
    "            else :\n",
    "                counter = int(m.group(2)[:2]) + 1\n",
    "                image_name = '{} {:02d}.{}'.format(m.group(1), counter, image_extension)\n",
    "\n",
    "            if pb.Page(commons_site, image_name, ns=6).exists():\n",
    "                print (\"Image name ({0}) already used in Commons. Finding a new name\".format(image_name))\n",
    "                used_names.append(image_name)\n",
    "        else :\n",
    "            print (\"Preparing to upload image with name {0}\".format(image_name))\n",
    "            used_names.append(image_name)\n",
    "            break\n",
    "\n",
    "    # image upload\n",
    "    bot = UploadRobot([image_path],\n",
    "                      description = _text,\n",
    "                      useFilename = image_name,\n",
    "                      keepFilename = True,\n",
    "                      verifyDescription = False,\n",
    "                      ignoreWarning = True,\n",
    "                      targetSite = commons_site)\n",
    "    bot.run()\n",
    "\n",
    "    os.remove(image_path)"
   ]
  },
  {
   "cell_type": "code",
   "execution_count": null,
   "metadata": {
    "collapsed": true
   },
   "outputs": [],
   "source": []
  }
 ],
 "metadata": {
  "kernelspec": {
   "display_name": "Python3.6",
   "language": "python",
   "name": "py36"
  },
  "language_info": {
   "codemirror_mode": {
    "name": "ipython",
    "version": 3
   },
   "file_extension": ".py",
   "mimetype": "text/x-python",
   "name": "python",
   "nbconvert_exporter": "python",
   "pygments_lexer": "ipython3",
   "version": "3.6.5"
  }
 },
 "nbformat": 4,
 "nbformat_minor": 2
}
