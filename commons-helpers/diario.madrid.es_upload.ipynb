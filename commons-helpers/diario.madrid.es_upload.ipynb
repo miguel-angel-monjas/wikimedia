{
 "cells": [
  {
   "cell_type": "code",
   "execution_count": null,
   "metadata": {
    "collapsed": true
   },
   "outputs": [],
   "source": [
    "#!/usr/bin/python\n",
    "# -*- coding: utf-8 -*-\n",
    "\n",
    "import pywikibot as pb\n",
    "from pywikibot.specialbots import UploadRobot\n",
    "\n",
    "import requests\n",
    "from requests.compat import quote\n",
    "from bs4 import BeautifulSoup\n",
    "from mako.template import Template\n",
    "\n",
    "import os, re\n",
    "import shutil\n",
    "import calendar\n",
    "\n",
    "commons_site = pb.Site(\"commons\", \"commons\")"
   ]
  },
  {
   "cell_type": "code",
   "execution_count": null,
   "metadata": {
    "collapsed": true
   },
   "outputs": [],
   "source": [
    "# Path handling for importing utils.py\n",
    "import sys, inspect\n",
    "current_folder = os.path.realpath(os.path.abspath(os.path.split(inspect.getfile(inspect.currentframe()))[0]))\n",
    "folder_parts = current_folder.split(os.sep)\n",
    "parent_folder = os.sep.join(folder_parts[:-1])\n",
    "\n",
    "if current_folder not in sys.path:\n",
    "    sys.path.insert(0, current_folder)\n",
    "if parent_folder not in sys.path:\n",
    "    sys.path.insert(0, parent_folder)\n",
    "    \n",
    "from wikimedia.utils import is_commons_file, get_hash"
   ]
  },
  {
   "cell_type": "code",
   "execution_count": null,
   "metadata": {
    "collapsed": true
   },
   "outputs": [],
   "source": [
    "# Creation of images folder\n",
    "cwd = os.getcwd()\n",
    "\n",
    "images_directory = os.path.join(cwd, 'images')\n",
    "if not os.path.exists(images_directory):\n",
    "    os.makedirs(images_directory)"
   ]
  },
  {
   "cell_type": "code",
   "execution_count": null,
   "metadata": {},
   "outputs": [],
   "source": [
    "# Configuration\n",
    "config = {\n",
    "    'url': 'https://diario.madrid.es/blog/notas-de-prensa/la-alcaldesa-me-siento-orgullosa-de-la-solidaridad-de-espana-con-la-acogida-a-los-migrantes-del-aquarius/',\n",
    "    'categories': ['Manuela Carmena in 2018'\n",
    "                   'Cuartel del Conde Duque, Madrid',\n",
    "                   '2018 events in Madrid'],\n",
    "    'uploader_category': None,\n",
    "    'head_picture': True,\n",
    "    'article_title': None,\n",
    "    'pub_date': None,\n",
    "    'article_content': None,\n",
    "    'excluded': [6]\n",
    "}\n",
    "\n",
    "categories = [category for category in (config['categories'] + [config['uploader_category']]) if category]\n",
    "categories.append(\"Images from Ayuntamiento de Madrid (to classify)\")\n",
    "categories"
   ]
  },
  {
   "cell_type": "code",
   "execution_count": null,
   "metadata": {
    "collapsed": true
   },
   "outputs": [],
   "source": [
    "# Retrieval of base page for extracting gallery information\n",
    "headers = {\"User-Agent\": \"Mozilla/5.0 (Windows NT 10.0; Win64; x64; rv:57.0) Gecko/20100101 Firefox/57.0\"}\n",
    "r = requests.get(config['url'], headers=headers)\n",
    "soup = BeautifulSoup(r.text, 'html.parser')"
   ]
  },
  {
   "cell_type": "code",
   "execution_count": null,
   "metadata": {},
   "outputs": [],
   "source": [
    "# Image title\n",
    "article_title = soup.find_all(\"h1\", class_=\"post-title\")[0].get_text().strip().replace('  ', ' ')\n",
    "if not config['article_title']:\n",
    "    image_name = article_title\n",
    "else:\n",
    "    image_name = config['article_title']\n",
    "image_name"
   ]
  },
  {
   "cell_type": "code",
   "execution_count": null,
   "metadata": {},
   "outputs": [],
   "source": [
    "# Image date\n",
    "if not config['pub_date']:\n",
    "    pub_date = '-'.join(soup.find_all(\"div\", class_=\"post-date\")[0].get_text().strip().split('/')[::-1])\n",
    "    year = pub_date.split('-')[0]\n",
    "    month = calendar.month_name[int(pub_date.split('-')[1])]\n",
    "    categories.append(f\"{month} {year} in Madrid\")\n",
    "else:\n",
    "    pub_date = config['pub_date']\n",
    "    \n",
    "pub_date"
   ]
  },
  {
   "cell_type": "code",
   "execution_count": null,
   "metadata": {},
   "outputs": [],
   "source": [
    "if not config['article_content']:\n",
    "    body = soup.find_all(\"div\", class_=\"post-content\")\n",
    "    p_description = body[0].find_all(\"p\")\n",
    "    for p in p_description :\n",
    "        if len(p.get_text()) > 10:\n",
    "            description = p.get_text()\n",
    "            break\n",
    "else :\n",
    "    description = config['article_content']\n",
    "description"
   ]
  },
  {
   "cell_type": "code",
   "execution_count": null,
   "metadata": {},
   "outputs": [],
   "source": [
    "template = u\"\"\"=={{int:filedesc}}==\n",
    "{{Information\n",
    "|description={{es|1=${description}}}\n",
    "|date=${pub_date}\n",
    "|source=[${url} Diario de Madrid - ${title}]\n",
    "|author=[https://diario.madrid.es/ Diario de Madrid]\n",
    "|permission=[https://diario.madrid.es/contenidos-libres/ License information for all contents in diario.madrid.es]\n",
    "|other versions=\n",
    "}}\n",
    "\n",
    "=={{int:license-header}}==\n",
    "{{Diario de Madrid}}\n",
    "\n",
    "${cat_string}\"\"\"\n",
    "\n",
    "vars = {\n",
    "    \"url\": config['url'],\n",
    "    \"description\": description,\n",
    "    \"pub_date\": pub_date,\n",
    "    \"title\": article_title,\n",
    "    \"cat_string\": '\\n'.join(['[[Category:'+i+']]' for i in categories])\n",
    "}\n",
    "t = Template(template)\n",
    "_text = t.render(**vars)\n",
    "_text"
   ]
  },
  {
   "cell_type": "code",
   "execution_count": null,
   "metadata": {},
   "outputs": [],
   "source": [
    "image_list = [{\"url\": image.a[\"href\"], \"title\": image_name} for image in soup.find_all(\"div\", class_=\"gallery-icon\")]\n",
    "image_list"
   ]
  },
  {
   "cell_type": "code",
   "execution_count": null,
   "metadata": {},
   "outputs": [],
   "source": [
    "if config['head_picture']:\n",
    "    image_list.extend([{\"url\": img.parent[\"href\"], \"title\": img[\"alt\"]} for img in soup.find_all(\"img\", class_=lambda value: value and value.startswith(\"wp-image\"))])\n",
    "image_list = [{'url': image['url'], 'title': image['title']} if len(image['title'])!= 0 else {'url': image['url'], 'title': image_name} for image in image_list]\n",
    "image_list"
   ]
  },
  {
   "cell_type": "code",
   "execution_count": null,
   "metadata": {},
   "outputs": [],
   "source": [
    "#### User input:\n",
    "excluded = config['excluded']\n",
    "\n",
    "used_names = []\n",
    "global_counter = 1\n",
    "for i, image in enumerate(image_list):\n",
    "    # If the image is excluded, skip\n",
    "    if i in excluded:\n",
    "        print (\"Image excluded. Skipping\")\n",
    "        continue\n",
    "        \n",
    "    # First, the image is downloaded and stored\n",
    "    image_url = quote(image[\"url\"].encode('utf-8'), ':/')\n",
    "    if len(image_list) == 1:\n",
    "        image_name = '{}.jpg'.format(image[\"title\"].replace(':', ' -').replace('  ', ' '))\n",
    "    else :\n",
    "        image_name = '{} {:02d}.jpg'.format(image[\"title\"].replace(':', ' -').replace('  ', ' '), global_counter)\n",
    "        global_counter += 1\n",
    "    image_path = os.path.join(images_directory, image_name)\n",
    "    try: \n",
    "        r = requests.get(image_url, headers=headers, stream=True)\n",
    "        with open(image_path, 'wb') as out_file:\n",
    "            shutil.copyfileobj(r.raw, out_file)\n",
    "    except :\n",
    "        print ('Failed download. Skipping')\n",
    "        continue\n",
    "\n",
    "    # If the image is already in Commons, skip\n",
    "    if is_commons_file(get_hash(image_path)) :\n",
    "        print (\"Image already in commons. Skipping\")\n",
    "        global_counter -= 1\n",
    "        os.remove(image_path)\n",
    "        continue\n",
    "\n",
    "    # If the image name is already in commons, find a new name\n",
    "    if pb.Page(commons_site, image_name, ns=6).exists():\n",
    "        print (\"Image name ({0}) already used in Commons\".format(image_name))\n",
    "        used_names.append(image_name)\n",
    "        \n",
    "    while True:\n",
    "        if image_name in used_names :\n",
    "            # Finding a new name\n",
    "            image_subject = '.'.join(image_name.split('.')[:-1])\n",
    "            image_extension = 'jpg'\n",
    "            p = re.compile('(.*) ([0-9]{2}\\.jpg)')\n",
    "            m = p.match(image_name)\n",
    "            if m is None:\n",
    "                image_name = image_subject + ' 01.' + image_extension\n",
    "            else :\n",
    "                counter = int(m.group(2)[:2]) + 1\n",
    "                image_name = '{} {:02d}.{}'.format(m.group(1), counter, image_extension)\n",
    "\n",
    "            if pb.Page(commons_site, image_name, ns=6).exists():\n",
    "                print (\"Image name ({0}) already used in Commons. Finding a new name\".format(image_name))\n",
    "                used_names.append(image_name)\n",
    "        else :\n",
    "            print (\"Preparing to upload image with name {0}\".format(image_name))\n",
    "            used_names.append(image_name)\n",
    "            break\n",
    "\n",
    "    # image upload\n",
    "    bot = UploadRobot([image_path],\n",
    "                      description = _text,\n",
    "                      useFilename = image_name,\n",
    "                      keepFilename = True,\n",
    "                      verifyDescription = False,\n",
    "                      ignoreWarning = True,\n",
    "                      targetSite = commons_site)\n",
    "    bot.run()\n",
    "    os.remove(image_path)"
   ]
  },
  {
   "cell_type": "code",
   "execution_count": null,
   "metadata": {
    "collapsed": true
   },
   "outputs": [],
   "source": []
  }
 ],
 "metadata": {
  "kernelspec": {
   "display_name": "Python3.6",
   "language": "python",
   "name": "py36"
  },
  "language_info": {
   "codemirror_mode": {
    "name": "ipython",
    "version": 3
   },
   "file_extension": ".py",
   "mimetype": "text/x-python",
   "name": "python",
   "nbconvert_exporter": "python",
   "pygments_lexer": "ipython3",
   "version": "3.6.5"
  }
 },
 "nbformat": 4,
 "nbformat_minor": 2
}
