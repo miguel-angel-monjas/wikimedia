{
 "cells": [
  {
   "cell_type": "markdown",
   "metadata": {},
   "source": [
    "## Commons helper: uploads from lamoncloa.gob.es\n",
    "\n",
    "This notebook helps users to upload images from the [photographic galleries](http://www.lamoncloa.gob.es/multimedia/galeriasfotograficas/Paginas/index.aspx) at `lamoncloa.gob.es`.\n",
    "\n",
    "In this case, I have found problems when running the notebook from [PAWS](http://paws.wmflabs.org/), as there seems to be antiscraping features implemented in La Moncloa web site. Thus, run this notebook from your own environment.\n",
    "\n",
    "#### Prerequisites:\n",
    "- Clone the repository where this notebook is available (it imports some functions from `utils.py`, located in a folder within this notebook parent folder).\n",
    "- Create a Python 3 virtual environment and activate it.\n",
    "- Install `pywikibot`:\n",
    "```bash\n",
    "pip install pywikibot\n",
    "```\n",
    "- Install `mako`:\n",
    "```bash\n",
    "pip install mako\n",
    "```\n",
    "or:\n",
    "```bash\n",
    "conda install mako\n",
    "```\n",
    "- Install `beautifulsoup4`:\n",
    "```bash\n",
    "pip install beautifulsoup4\n",
    "```\n",
    "or:\n",
    "```bash\n",
    "conda install beautifulsoup4\n",
    "```\n",
    "- Install `dateparser`:\n",
    "```bash\n",
    "pip install dateparser\n",
    "```\n",
    "or:\n",
    "```bash\n",
    " conda install -c conda-forge dateparser \n",
    "```\n",
    "- Create a properly formatted `user-config.py` file.\n",
    "- Launch `jupyter notebook` using the kernel associated to the virtual environment.\n",
    "\n",
    "#### Configuration\n",
    "This notebook takes all the photograms in a given URL (provided that this URL hosts a photographic gallery) and uploads them to commons inserting the proper license templates. The following features are automatically extracted:\n",
    "- **Image name**: The mane of the images is taken from the title of the photographic gallery. An autoincremental number is appended to distinguish between all the photographs.\n",
    "- **Image description**: The description is copied from the image description at the photographic gallery.\n",
    "- **Image date**: The date is extracted from the image description.\n",
    "- **Phothographer**: The information is extracted from the image description.\n",
    "- **Categories**: Some categories are automaticaly extracted from the image description. For instance, the notebook assigns `Palacio de la Moncloa` and `[month] [year] in Madrid` if the photograph has been taken at the seat of the government, or `Photographs by [photographer]` if available at the image description.\n",
    "\n",
    "**However** you can override or update most of them by editing the `config` dictionary in the notebook, add additional categories or determine which images to upload:\n",
    "- `url`: This is where the photographic gallery is available. This configuration element is **mandatory**.\n",
    "- `categories`: Include here as many categories as you want to assign to all images (for a category for a particular image you must do it afterwards). If empty, no categories but the automatically detected will be added.\n",
    "- `uploader_category`: If you wish to assign a category for you as uploader, do it here. If empty, no category will be added.\n",
    "- `title`: Include your own name if you don't like the one being extracted.\n",
    "- `pub_date`: Use the following format: YYYY-MM-DD (i.e. 2018-13-24)\n",
    "- `excluded`: A list with the indices of the pictures you don't wish to upload"
   ]
  },
  {
   "cell_type": "code",
   "execution_count": null,
   "metadata": {
    "collapsed": true
   },
   "outputs": [],
   "source": [
    "#!/usr/bin/python\n",
    "# -*- coding: utf-8 -*-\n",
    "\n",
    "import pywikibot as pb\n",
    "from pywikibot.specialbots import UploadRobot\n",
    "\n",
    "import requests\n",
    "from requests.compat import quote\n",
    "from bs4 import BeautifulSoup\n",
    "from mako.template import Template\n",
    "\n",
    "import dateparser as dp\n",
    "import os, re\n",
    "import shutil\n",
    "\n",
    "commons_site = pb.Site(\"commons\", \"commons\")"
   ]
  },
  {
   "cell_type": "code",
   "execution_count": null,
   "metadata": {},
   "outputs": [],
   "source": [
    "# Path handling for importing utils.py\n",
    "import sys, inspect\n",
    "current_folder = os.path.realpath(os.path.abspath(os.path.split(inspect.getfile(inspect.currentframe()))[0]))\n",
    "folder_parts = current_folder.split(os.sep)\n",
    "parent_folder = os.sep.join(folder_parts[:-1])\n",
    "\n",
    "if current_folder not in sys.path:\n",
    "    sys.path.insert(0, current_folder)\n",
    "if parent_folder not in sys.path:\n",
    "    sys.path.insert(0, parent_folder)\n",
    "    \n",
    "from wikimedia.utils import is_commons_file, get_hash, remove_tags"
   ]
  },
  {
   "cell_type": "code",
   "execution_count": null,
   "metadata": {
    "collapsed": true
   },
   "outputs": [],
   "source": [
    "# Creation of images folder\n",
    "cwd = os.getcwd()\n",
    "\n",
    "images_directory = os.path.join(cwd, 'images')\n",
    "if not os.path.exists(images_directory):\n",
    "    os.makedirs(images_directory)"
   ]
  },
  {
   "cell_type": "code",
   "execution_count": 14,
   "metadata": {
    "collapsed": true
   },
   "outputs": [],
   "source": [
    "# Configuration\n",
    "config = {\n",
    "    'url': 'http://www.lamoncloa.gob.es/multimedia/galeriasfotograficas/presidente/Paginas/2018/270218rajoy_olimpicos.aspx',\n",
    "    'categories': ['Mariano Rajoy in 2018',\n",
    "                   'Javier Fernández Fernández',\n",
    "                   'Javier Fernández',\n",
    "                   'Regino Hernández Martín'\n",
    "                  ],\n",
    "    'uploader_category': 'Files uploaded by User:Discasto',\n",
    "    'title': None,\n",
    "    'pub_date': None,\n",
    "    'excluded': []\n",
    "}\n",
    "categories = [category for category in (config['categories'] + [config['uploader_category']]) if category]"
   ]
  },
  {
   "cell_type": "code",
   "execution_count": 15,
   "metadata": {
    "collapsed": true
   },
   "outputs": [],
   "source": [
    "# Retrieval of base page for extracting gallery information\n",
    "while True:\n",
    "    request = requests.get(config['url'])\n",
    "    if request is not None:\n",
    "        #print(\"{0}\".format(u''.join(request.text).encode('utf-8')))\n",
    "        response = request.text\n",
    "        break\n",
    "    else :\n",
    "        print ('Trying')\n",
    "\n",
    "soup = BeautifulSoup(response, 'html.parser')"
   ]
  },
  {
   "cell_type": "code",
   "execution_count": 16,
   "metadata": {},
   "outputs": [
    {
     "data": {
      "text/plain": [
       "'Rajoy recibe al equipo español que ha participado en los JJOO de Invierno'"
      ]
     },
     "execution_count": 16,
     "metadata": {},
     "output_type": "execute_result"
    }
   ],
   "source": [
    "# Gallery title\n",
    "if not config['title']:\n",
    "    title = soup.find_all(\"h1\", class_=\"contenidoTitulo\")[0].get_text().strip().replace(':', ' - ').replace('  ', ' ')\n",
    "else:\n",
    "    title = config['title']\n",
    "title"
   ]
  },
  {
   "cell_type": "code",
   "execution_count": 17,
   "metadata": {},
   "outputs": [
    {
     "data": {
      "text/plain": [
       "'2018-02-27'"
      ]
     },
     "execution_count": 17,
     "metadata": {},
     "output_type": "execute_result"
    }
   ],
   "source": [
    "# Image date\n",
    "if not config['pub_date']:\n",
    "    try:\n",
    "        date_string = soup.find_all(\"div\", class_=\"contenidoFecha\")[0].get_text()\n",
    "        pub_date_sp = ' '.join(date_string.strip().split(' ')[-5:])\n",
    "        #print (pub_date_sp)\n",
    "        parsed_pub_date = dp.parse(pub_date_sp)\n",
    "        pub_date = parsed_pub_date.strftime('%Y-%m-%d')\n",
    "    \n",
    "        year_date = parsed_pub_date.strftime('%Y')\n",
    "        month_date = parsed_pub_date.strftime('%B')\n",
    "        if 'La Moncloa' in date_string:\n",
    "            categories.append('Palacio de la Moncloa')\n",
    "            categories.append(f'{month_date} {year_date} in Madrid')\n",
    "    except :\n",
    "        pub_date = None\n",
    "else:\n",
    "    pub_date = config['pub_date']\n",
    "    \n",
    "pub_date"
   ]
  },
  {
   "cell_type": "code",
   "execution_count": 18,
   "metadata": {},
   "outputs": [
    {
     "data": {
      "text/plain": [
       "['http://www.lamoncloa.gob.es/multimedia/fotos/presidente/PublishingImages/2018/270218Rajoy_olimpicos03.jpg',\n",
       " 'http://www.lamoncloa.gob.es/multimedia/fotos/presidente/PublishingImages/2018/270218Rajoy_olimpicos01.jpg',\n",
       " 'http://www.lamoncloa.gob.es/multimedia/fotos/presidente/PublishingImages/2018/270218Rajoy_olimpicos04.jpg',\n",
       " 'http://www.lamoncloa.gob.es/multimedia/fotos/presidente/PublishingImages/2018/270218Rajoy_olimpicos05.jpg',\n",
       " 'http://www.lamoncloa.gob.es/multimedia/fotos/presidente/PublishingImages/2018/270218Rajoy_olimpicos06.jpg',\n",
       " 'http://www.lamoncloa.gob.es/multimedia/fotos/presidente/PublishingImages/2018/270218Rajoy_olimpicos07.jpg',\n",
       " 'http://www.lamoncloa.gob.es/multimedia/fotos/presidente/PublishingImages/2018/270218Rajoy_olimpicos08.jpg',\n",
       " 'http://www.lamoncloa.gob.es/multimedia/fotos/presidente/PublishingImages/2018/270218Rajoy_olimpicos02.jpg']"
      ]
     },
     "execution_count": 18,
     "metadata": {},
     "output_type": "execute_result"
    }
   ],
   "source": [
    "# Image list extraction\n",
    "p = re.compile(\"gFIO\\[\\d{1,2}\\] = \\\\'(.*)\\\\';\")\n",
    "image_list = ['http://www.lamoncloa.gob.es' + url for url in re.findall(p, response)]\n",
    "image_list"
   ]
  },
  {
   "cell_type": "code",
   "execution_count": 19,
   "metadata": {},
   "outputs": [
    {
     "data": {
      "text/plain": [
       "['El presidente del Gobierno, Mariano Rajoy, recibe a una representación del equipo español que ha participado en los Juegos Olímpicos de Invierno, celebrados en Pyeonchang, Corea del Sur.',\n",
       " 'El presidente del Gobierno, Mariano Rajoy, saluda a Javier Fernández, Medalla de Bronce en Patinaje, y a Regino Hernández, Medalla de Bronce en Snowboard, integrantes del equipo español que ha participado en los Juegos Olímpicos de Invierno, celebrados en Pyeonchang, Corea del Sur',\n",
       " 'El presidente del Gobierno, Mariano Rajoy, recibe un casco firmado por Regino Hernández, Medalla de Bronce en Snowboard',\n",
       " 'El presidente del Gobierno, Mariano Rajoy, recibe unos patines firmados por Javier Fernández, Medalla de Bronce en Patinaje',\n",
       " 'El presidente del Gobierno, Mariano Rajoy, durante su intervención en el acto celebrado en La Moncloa',\n",
       " 'El presidente del Gobierno, Mariano Rajoy, durante su intervención en el acto celebrado en La Moncloa',\n",
       " 'El medallista olímpico, Regino Hernández, durante su intervención en el acto celebrado en La Moncloa',\n",
       " 'El medallista olímpico, Javier Fernández, durante su intervención en el acto celebrado en La Moncloa']"
      ]
     },
     "execution_count": 19,
     "metadata": {},
     "output_type": "execute_result"
    }
   ],
   "source": [
    "# Image description extraction\n",
    "p = re.compile(\"gFT\\[\\d{1,2}\\] = \\\\'(.*)\\\\';\")\n",
    "description_list = [remove_tags(desc.strip().rstrip('.')) for desc in re.findall(p, response)]\n",
    "description_list"
   ]
  },
  {
   "cell_type": "code",
   "execution_count": 20,
   "metadata": {},
   "outputs": [
    {
     "data": {
      "text/plain": [
       "['Pool Moncloa/César P.Sendra',\n",
       " 'Pool Moncloa/César P.Sendra',\n",
       " 'Pool Moncloa/César P.Sendra',\n",
       " 'Pool Moncloa/César P.Sendra',\n",
       " 'Pool Moncloa/César P.Sendra',\n",
       " 'Pool Moncloa/César P.Sendra',\n",
       " 'Pool Moncloa/César P. Sendra',\n",
       " 'Pool Moncloa/César P.Sendra']"
      ]
     },
     "execution_count": 20,
     "metadata": {},
     "output_type": "execute_result"
    }
   ],
   "source": [
    "# Image author extraction\n",
    "p = re.compile(\"gFA\\[\\d{1,2}\\] = \\\\'(.*)\\\\';\")\n",
    "author_list = [author.strip() for author in re.findall(p, response)]\n",
    "author_list"
   ]
  },
  {
   "cell_type": "code",
   "execution_count": 21,
   "metadata": {},
   "outputs": [
    {
     "data": {
      "text/plain": [
       "[True, True, True, True, True, True, True, True]"
      ]
     },
     "execution_count": 21,
     "metadata": {},
     "output_type": "execute_result"
    }
   ],
   "source": [
    "truth_list = ['Pool' in author for author in author_list]\n",
    "truth_list"
   ]
  },
  {
   "cell_type": "code",
   "execution_count": 22,
   "metadata": {
    "collapsed": true
   },
   "outputs": [],
   "source": [
    "# Page of the image in Commons\n",
    "template = u\"\"\"=={{int:filedesc}}==\n",
    "{{Information\n",
    "|description={{es|1=${description}}}\n",
    "|date=${date}\n",
    "|source=[${url} Galería fotográfica: ${title}]\n",
    "|author=Ministerio de la Presidencia. Gobierno de España (${author})\n",
    "|permission=\n",
    "|other versions=\n",
    "}}\n",
    "\n",
    "=={{int:license-header}}==\n",
    "{{LicenseReview}}\n",
    "{{attribution-La Moncloa}}\n",
    "\n",
    "${cat_string}\"\"\"\n",
    "\n",
    "vars = {\n",
    "    \"url\": config['url'],\n",
    "    \"description\": None,\n",
    "    \"author\": None,\n",
    "    \"date\": pub_date,\n",
    "    \"title\": title,\n",
    "    \"cat_string\": None\n",
    "}"
   ]
  },
  {
   "cell_type": "code",
   "execution_count": 23,
   "metadata": {},
   "outputs": [
    {
     "name": "stdout",
     "output_type": "stream",
     "text": [
      "http://www.lamoncloa.gob.es/multimedia/fotos/presidente/PublishingImages/2018/270218Rajoy_olimpicos03.jpg\n",
      "Trying download\n",
      "Image downloaded. Starting upload process\n",
      "Preparing to upload image with name Rajoy recibe al equipo español que ha participado en los JJOO de Invierno 01.jpg\n",
      "['Files uploaded by User:Discasto', 'Javier Fernández Fernández', 'Palacio de la Moncloa', 'Regino Hernández Martín', 'February 2018 in Madrid', 'Photographs by César P. Sendra', 'Javier Fernández', 'Mariano Rajoy in 2018']\n"
     ]
    },
    {
     "name": "stderr",
     "output_type": "stream",
     "text": [
      "The suggested description is:\n",
      "=={{int:filedesc}}==\n",
      "{{Information\n",
      "|description={{es|1=El presidente del Gobierno, Mariano Rajoy, recibe a una representación del equipo español que ha participado en los Juegos Olímpicos de Invierno, celebrados en Pyeonchang, Corea del Sur.}}\n",
      "|date=2018-02-27\n",
      "|source=[http://www.lamoncloa.gob.es/multimedia/galeriasfotograficas/presidente/Paginas/2018/270218rajoy_olimpicos.aspx Galería fotográfica: Rajoy recibe al equipo español que ha participado en los JJOO de Invierno]\n",
      "|author=Ministerio de la Presidencia. Gobierno de España (Pool Moncloa/César P.Sendra)\n",
      "|permission=\n",
      "|other versions=\n",
      "}}\n",
      "\n",
      "=={{int:license-header}}==\n",
      "{{LicenseReview}}\n",
      "{{attribution-La Moncloa}}\n",
      "\n",
      "[[Category:Files uploaded by User:Discasto]]\n",
      "[[Category:Javier Fernández Fernández]]\n",
      "[[Category:Palacio de la Moncloa]]\n",
      "[[Category:Regino Hernández Martín]]\n",
      "[[Category:February 2018 in Madrid]]\n",
      "[[Category:Photographs by César P. Sendra]]\n",
      "[[Category:Javier Fernández]]\n",
      "[[Category:Mariano Rajoy in 2018]]\n",
      "Uploading file to commons:commons...\n",
      "Upload successful.\n",
      "Upload of Rajoy recibe al equipo español que ha participado en los JJOO de Invierno 01.jpg successful.\n",
      "\n",
      "1 pages read\n",
      "1 pages written\n",
      "Script terminated successfully.\n"
     ]
    },
    {
     "name": "stdout",
     "output_type": "stream",
     "text": [
      "http://www.lamoncloa.gob.es/multimedia/fotos/presidente/PublishingImages/2018/270218Rajoy_olimpicos01.jpg\n",
      "Trying download\n",
      "Image downloaded. Starting upload process\n",
      "Preparing to upload image with name Rajoy recibe al equipo español que ha participado en los JJOO de Invierno 02.jpg\n",
      "['Javier Fernández Fernández', 'Palacio de la Moncloa', 'Mariano Rajoy in 2018', 'Regino Hernández Martín', 'February 2018 in Madrid', 'Photographs by César P. Sendra', 'Javier Fernández', 'Files uploaded by User:Discasto']\n"
     ]
    },
    {
     "name": "stderr",
     "output_type": "stream",
     "text": [
      "The suggested description is:\n",
      "=={{int:filedesc}}==\n",
      "{{Information\n",
      "|description={{es|1=El presidente del Gobierno, Mariano Rajoy, saluda a Javier Fernández, Medalla de Bronce en Patinaje, y a Regino Hernández, Medalla de Bronce en Snowboard, integrantes del equipo español que ha participado en los Juegos Olímpicos de Invierno, celebrados en Pyeonchang, Corea del Sur}}\n",
      "|date=2018-02-27\n",
      "|source=[http://www.lamoncloa.gob.es/multimedia/galeriasfotograficas/presidente/Paginas/2018/270218rajoy_olimpicos.aspx Galería fotográfica: Rajoy recibe al equipo español que ha participado en los JJOO de Invierno]\n",
      "|author=Ministerio de la Presidencia. Gobierno de España (Pool Moncloa/César P.Sendra)\n",
      "|permission=\n",
      "|other versions=\n",
      "}}\n",
      "\n",
      "=={{int:license-header}}==\n",
      "{{LicenseReview}}\n",
      "{{attribution-La Moncloa}}\n",
      "\n",
      "[[Category:Javier Fernández Fernández]]\n",
      "[[Category:Palacio de la Moncloa]]\n",
      "[[Category:Mariano Rajoy in 2018]]\n",
      "[[Category:Regino Hernández Martín]]\n",
      "[[Category:February 2018 in Madrid]]\n",
      "[[Category:Photographs by César P. Sendra]]\n",
      "[[Category:Javier Fernández]]\n",
      "[[Category:Files uploaded by User:Discasto]]\n",
      "Uploading file to commons:commons...\n",
      "Sleeping for 3.8 seconds, 2018-06-11 20:34:26\n",
      "Upload successful.\n",
      "Upload of Rajoy recibe al equipo español que ha participado en los JJOO de Invierno 02.jpg successful.\n",
      "\n",
      "1 pages read\n",
      "1 pages written\n",
      "Script terminated successfully.\n"
     ]
    },
    {
     "name": "stdout",
     "output_type": "stream",
     "text": [
      "http://www.lamoncloa.gob.es/multimedia/fotos/presidente/PublishingImages/2018/270218Rajoy_olimpicos04.jpg\n",
      "Trying download\n",
      "Image downloaded. Starting upload process\n",
      "Preparing to upload image with name Rajoy recibe al equipo español que ha participado en los JJOO de Invierno 03.jpg\n",
      "['Files uploaded by User:Discasto', 'Javier Fernández Fernández', 'Palacio de la Moncloa', 'Regino Hernández Martín', 'February 2018 in Madrid', 'Photographs by César P. Sendra', 'Javier Fernández', 'Mariano Rajoy in 2018']\n"
     ]
    },
    {
     "name": "stderr",
     "output_type": "stream",
     "text": [
      "The suggested description is:\n",
      "=={{int:filedesc}}==\n",
      "{{Information\n",
      "|description={{es|1=El presidente del Gobierno, Mariano Rajoy, recibe un casco firmado por Regino Hernández, Medalla de Bronce en Snowboard}}\n",
      "|date=2018-02-27\n",
      "|source=[http://www.lamoncloa.gob.es/multimedia/galeriasfotograficas/presidente/Paginas/2018/270218rajoy_olimpicos.aspx Galería fotográfica: Rajoy recibe al equipo español que ha participado en los JJOO de Invierno]\n",
      "|author=Ministerio de la Presidencia. Gobierno de España (Pool Moncloa/César P.Sendra)\n",
      "|permission=\n",
      "|other versions=\n",
      "}}\n",
      "\n",
      "=={{int:license-header}}==\n",
      "{{LicenseReview}}\n",
      "{{attribution-La Moncloa}}\n",
      "\n",
      "[[Category:Files uploaded by User:Discasto]]\n",
      "[[Category:Javier Fernández Fernández]]\n",
      "[[Category:Palacio de la Moncloa]]\n",
      "[[Category:Regino Hernández Martín]]\n",
      "[[Category:February 2018 in Madrid]]\n",
      "[[Category:Photographs by César P. Sendra]]\n",
      "[[Category:Javier Fernández]]\n",
      "[[Category:Mariano Rajoy in 2018]]\n",
      "Uploading file to commons:commons...\n",
      "Sleeping for 4.9 seconds, 2018-06-11 20:34:35\n",
      "Upload successful.\n",
      "Upload of Rajoy recibe al equipo español que ha participado en los JJOO de Invierno 03.jpg successful.\n",
      "\n",
      "1 pages read\n",
      "1 pages written\n",
      "Script terminated successfully.\n"
     ]
    },
    {
     "name": "stdout",
     "output_type": "stream",
     "text": [
      "http://www.lamoncloa.gob.es/multimedia/fotos/presidente/PublishingImages/2018/270218Rajoy_olimpicos05.jpg\n",
      "Trying download\n",
      "Image downloaded. Starting upload process\n",
      "Preparing to upload image with name Rajoy recibe al equipo español que ha participado en los JJOO de Invierno 04.jpg\n",
      "['Javier Fernández Fernández', 'Palacio de la Moncloa', 'Mariano Rajoy in 2018', 'Regino Hernández Martín', 'February 2018 in Madrid', 'Photographs by César P. Sendra', 'Javier Fernández', 'Files uploaded by User:Discasto']\n"
     ]
    },
    {
     "name": "stderr",
     "output_type": "stream",
     "text": [
      "The suggested description is:\n",
      "=={{int:filedesc}}==\n",
      "{{Information\n",
      "|description={{es|1=El presidente del Gobierno, Mariano Rajoy, recibe unos patines firmados por Javier Fernández, Medalla de Bronce en Patinaje}}\n",
      "|date=2018-02-27\n",
      "|source=[http://www.lamoncloa.gob.es/multimedia/galeriasfotograficas/presidente/Paginas/2018/270218rajoy_olimpicos.aspx Galería fotográfica: Rajoy recibe al equipo español que ha participado en los JJOO de Invierno]\n",
      "|author=Ministerio de la Presidencia. Gobierno de España (Pool Moncloa/César P.Sendra)\n",
      "|permission=\n",
      "|other versions=\n",
      "}}\n",
      "\n",
      "=={{int:license-header}}==\n",
      "{{LicenseReview}}\n",
      "{{attribution-La Moncloa}}\n",
      "\n",
      "[[Category:Javier Fernández Fernández]]\n",
      "[[Category:Palacio de la Moncloa]]\n",
      "[[Category:Mariano Rajoy in 2018]]\n",
      "[[Category:Regino Hernández Martín]]\n",
      "[[Category:February 2018 in Madrid]]\n",
      "[[Category:Photographs by César P. Sendra]]\n",
      "[[Category:Javier Fernández]]\n",
      "[[Category:Files uploaded by User:Discasto]]\n",
      "Uploading file to commons:commons...\n",
      "Sleeping for 4.1 seconds, 2018-06-11 20:34:45\n",
      "Upload successful.\n",
      "Upload of Rajoy recibe al equipo español que ha participado en los JJOO de Invierno 04.jpg successful.\n",
      "\n",
      "1 pages read\n",
      "1 pages written\n",
      "Script terminated successfully.\n"
     ]
    },
    {
     "name": "stdout",
     "output_type": "stream",
     "text": [
      "http://www.lamoncloa.gob.es/multimedia/fotos/presidente/PublishingImages/2018/270218Rajoy_olimpicos06.jpg\n",
      "Trying download\n",
      "Image downloaded. Starting upload process\n",
      "Preparing to upload image with name Rajoy recibe al equipo español que ha participado en los JJOO de Invierno 05.jpg\n",
      "['Files uploaded by User:Discasto', 'Javier Fernández Fernández', 'Palacio de la Moncloa', 'Regino Hernández Martín', 'February 2018 in Madrid', 'Photographs by César P. Sendra', 'Javier Fernández', 'Mariano Rajoy in 2018']\n"
     ]
    },
    {
     "name": "stderr",
     "output_type": "stream",
     "text": [
      "The suggested description is:\n",
      "=={{int:filedesc}}==\n",
      "{{Information\n",
      "|description={{es|1=El presidente del Gobierno, Mariano Rajoy, durante su intervención en el acto celebrado en La Moncloa}}\n",
      "|date=2018-02-27\n",
      "|source=[http://www.lamoncloa.gob.es/multimedia/galeriasfotograficas/presidente/Paginas/2018/270218rajoy_olimpicos.aspx Galería fotográfica: Rajoy recibe al equipo español que ha participado en los JJOO de Invierno]\n",
      "|author=Ministerio de la Presidencia. Gobierno de España (Pool Moncloa/César P.Sendra)\n",
      "|permission=\n",
      "|other versions=\n",
      "}}\n",
      "\n",
      "=={{int:license-header}}==\n",
      "{{LicenseReview}}\n",
      "{{attribution-La Moncloa}}\n",
      "\n",
      "[[Category:Files uploaded by User:Discasto]]\n",
      "[[Category:Javier Fernández Fernández]]\n",
      "[[Category:Palacio de la Moncloa]]\n",
      "[[Category:Regino Hernández Martín]]\n",
      "[[Category:February 2018 in Madrid]]\n",
      "[[Category:Photographs by César P. Sendra]]\n",
      "[[Category:Javier Fernández]]\n",
      "[[Category:Mariano Rajoy in 2018]]\n",
      "Uploading file to commons:commons...\n",
      "Sleeping for 5.4 seconds, 2018-06-11 20:34:54\n",
      "Upload successful.\n",
      "Upload of Rajoy recibe al equipo español que ha participado en los JJOO de Invierno 05.jpg successful.\n",
      "\n",
      "1 pages read\n",
      "1 pages written\n",
      "Script terminated successfully.\n"
     ]
    },
    {
     "name": "stdout",
     "output_type": "stream",
     "text": [
      "http://www.lamoncloa.gob.es/multimedia/fotos/presidente/PublishingImages/2018/270218Rajoy_olimpicos07.jpg\n",
      "Trying download\n",
      "Image downloaded. Starting upload process\n",
      "Preparing to upload image with name Rajoy recibe al equipo español que ha participado en los JJOO de Invierno 06.jpg\n",
      "['Javier Fernández Fernández', 'Palacio de la Moncloa', 'Mariano Rajoy in 2018', 'Regino Hernández Martín', 'February 2018 in Madrid', 'Photographs by César P. Sendra', 'Javier Fernández', 'Files uploaded by User:Discasto']\n"
     ]
    },
    {
     "name": "stderr",
     "output_type": "stream",
     "text": [
      "The suggested description is:\n",
      "=={{int:filedesc}}==\n",
      "{{Information\n",
      "|description={{es|1=El presidente del Gobierno, Mariano Rajoy, durante su intervención en el acto celebrado en La Moncloa}}\n",
      "|date=2018-02-27\n",
      "|source=[http://www.lamoncloa.gob.es/multimedia/galeriasfotograficas/presidente/Paginas/2018/270218rajoy_olimpicos.aspx Galería fotográfica: Rajoy recibe al equipo español que ha participado en los JJOO de Invierno]\n",
      "|author=Ministerio de la Presidencia. Gobierno de España (Pool Moncloa/César P.Sendra)\n",
      "|permission=\n",
      "|other versions=\n",
      "}}\n",
      "\n",
      "=={{int:license-header}}==\n",
      "{{LicenseReview}}\n",
      "{{attribution-La Moncloa}}\n",
      "\n",
      "[[Category:Javier Fernández Fernández]]\n",
      "[[Category:Palacio de la Moncloa]]\n",
      "[[Category:Mariano Rajoy in 2018]]\n",
      "[[Category:Regino Hernández Martín]]\n",
      "[[Category:February 2018 in Madrid]]\n",
      "[[Category:Photographs by César P. Sendra]]\n",
      "[[Category:Javier Fernández]]\n",
      "[[Category:Files uploaded by User:Discasto]]\n",
      "Uploading file to commons:commons...\n",
      "Sleeping for 5.4 seconds, 2018-06-11 20:35:04\n",
      "Upload successful.\n",
      "Upload of Rajoy recibe al equipo español que ha participado en los JJOO de Invierno 06.jpg successful.\n",
      "\n",
      "1 pages read\n",
      "1 pages written\n",
      "Script terminated successfully.\n"
     ]
    },
    {
     "name": "stdout",
     "output_type": "stream",
     "text": [
      "http://www.lamoncloa.gob.es/multimedia/fotos/presidente/PublishingImages/2018/270218Rajoy_olimpicos08.jpg\n",
      "Trying download\n",
      "Image downloaded. Starting upload process\n",
      "Preparing to upload image with name Rajoy recibe al equipo español que ha participado en los JJOO de Invierno 07.jpg\n",
      "['Files uploaded by User:Discasto', 'Javier Fernández Fernández', 'Palacio de la Moncloa', 'Regino Hernández Martín', 'February 2018 in Madrid', 'Photographs by César P. Sendra', 'Javier Fernández', 'Mariano Rajoy in 2018']\n"
     ]
    },
    {
     "name": "stderr",
     "output_type": "stream",
     "text": [
      "The suggested description is:\n",
      "=={{int:filedesc}}==\n",
      "{{Information\n",
      "|description={{es|1=El medallista olímpico, Regino Hernández, durante su intervención en el acto celebrado en La Moncloa}}\n",
      "|date=2018-02-27\n",
      "|source=[http://www.lamoncloa.gob.es/multimedia/galeriasfotograficas/presidente/Paginas/2018/270218rajoy_olimpicos.aspx Galería fotográfica: Rajoy recibe al equipo español que ha participado en los JJOO de Invierno]\n",
      "|author=Ministerio de la Presidencia. Gobierno de España (Pool Moncloa/César P. Sendra)\n",
      "|permission=\n",
      "|other versions=\n",
      "}}\n",
      "\n",
      "=={{int:license-header}}==\n",
      "{{LicenseReview}}\n",
      "{{attribution-La Moncloa}}\n",
      "\n",
      "[[Category:Files uploaded by User:Discasto]]\n",
      "[[Category:Javier Fernández Fernández]]\n",
      "[[Category:Palacio de la Moncloa]]\n",
      "[[Category:Regino Hernández Martín]]\n",
      "[[Category:February 2018 in Madrid]]\n",
      "[[Category:Photographs by César P. Sendra]]\n",
      "[[Category:Javier Fernández]]\n",
      "[[Category:Mariano Rajoy in 2018]]\n",
      "Uploading file to commons:commons...\n",
      "Sleeping for 5.5 seconds, 2018-06-11 20:35:14\n",
      "Upload successful.\n",
      "Upload of Rajoy recibe al equipo español que ha participado en los JJOO de Invierno 07.jpg successful.\n",
      "\n",
      "1 pages read\n",
      "1 pages written\n",
      "Script terminated successfully.\n"
     ]
    },
    {
     "name": "stdout",
     "output_type": "stream",
     "text": [
      "http://www.lamoncloa.gob.es/multimedia/fotos/presidente/PublishingImages/2018/270218Rajoy_olimpicos02.jpg\n",
      "Trying download\n",
      "Image downloaded. Starting upload process\n",
      "Preparing to upload image with name Rajoy recibe al equipo español que ha participado en los JJOO de Invierno 08.jpg\n",
      "['Javier Fernández Fernández', 'Palacio de la Moncloa', 'Mariano Rajoy in 2018', 'Regino Hernández Martín', 'February 2018 in Madrid', 'Photographs by César P. Sendra', 'Javier Fernández', 'Files uploaded by User:Discasto']\n"
     ]
    },
    {
     "name": "stderr",
     "output_type": "stream",
     "text": [
      "The suggested description is:\n",
      "=={{int:filedesc}}==\n",
      "{{Information\n",
      "|description={{es|1=El medallista olímpico, Javier Fernández, durante su intervención en el acto celebrado en La Moncloa}}\n",
      "|date=2018-02-27\n",
      "|source=[http://www.lamoncloa.gob.es/multimedia/galeriasfotograficas/presidente/Paginas/2018/270218rajoy_olimpicos.aspx Galería fotográfica: Rajoy recibe al equipo español que ha participado en los JJOO de Invierno]\n",
      "|author=Ministerio de la Presidencia. Gobierno de España (Pool Moncloa/César P.Sendra)\n",
      "|permission=\n",
      "|other versions=\n",
      "}}\n",
      "\n",
      "=={{int:license-header}}==\n",
      "{{LicenseReview}}\n",
      "{{attribution-La Moncloa}}\n",
      "\n",
      "[[Category:Javier Fernández Fernández]]\n",
      "[[Category:Palacio de la Moncloa]]\n",
      "[[Category:Mariano Rajoy in 2018]]\n",
      "[[Category:Regino Hernández Martín]]\n",
      "[[Category:February 2018 in Madrid]]\n",
      "[[Category:Photographs by César P. Sendra]]\n",
      "[[Category:Javier Fernández]]\n",
      "[[Category:Files uploaded by User:Discasto]]\n",
      "Uploading file to commons:commons...\n",
      "Sleeping for 5.3 seconds, 2018-06-11 20:35:24\n",
      "Upload successful.\n",
      "Upload of Rajoy recibe al equipo español que ha participado en los JJOO de Invierno 08.jpg successful.\n",
      "\n",
      "1 pages read\n",
      "1 pages written\n",
      "Script terminated successfully.\n"
     ]
    }
   ],
   "source": [
    "# Image retrieval and upload to Commons\n",
    "excluded = config['excluded']\n",
    "\n",
    "used_names = []\n",
    "global_counter = 1\n",
    "for i, image in enumerate(image_list):\n",
    "    # If the image is excluded, skip\n",
    "    if i in excluded:\n",
    "        print (\"Image excluded. Skipping\")\n",
    "        continue\n",
    "    elif truth_list[i] == False:\n",
    "        print (\"Image from a party other than Moncloa. Skipping\")\n",
    "        continue        \n",
    "        \n",
    "    # First, the image is downloaded and stored\n",
    "    image_url = quote(image.encode('utf-8'), ':/')\n",
    "    print(image_url)\n",
    "    image_name = '{} {:02d}.jpg'.format(title.replace(':', ' -').replace('  ', ' '), global_counter)\n",
    "    global_counter += 1\n",
    "    image_path = os.path.join(images_directory, image_name)\n",
    "    while True:\n",
    "        print ('Trying download')\n",
    "        r = requests.get(image_url, stream=True)\n",
    "        if r is not None:\n",
    "            with open(image_path, 'wb') as out_file:\n",
    "                shutil.copyfileobj(r.raw, out_file)\n",
    "            print ('Image downloaded. Starting upload process')\n",
    "            break\n",
    "        else :\n",
    "            print ('Still trying download')\n",
    "\n",
    "    # If the image is already in Commons, it is skipped\n",
    "    if is_commons_file(get_hash(image_path)) :\n",
    "        print (\"Image already in commons. Skipping\")\n",
    "        os.remove(image_path)\n",
    "        global_counter -= 1\n",
    "        continue\n",
    "\n",
    "    # If the image name is already in commons, a new name is found\n",
    "    if pb.Page(commons_site, image_name, ns=6).exists():\n",
    "        print (\"Image name ({0}) already used in Commons\".format(image_name))\n",
    "        used_names.append(image_name)\n",
    "        \n",
    "    while True:\n",
    "        if image_name in used_names :\n",
    "            # Finding a new name\n",
    "            image_subject = '.'.join(image_name.split('.')[:-1])\n",
    "            image_extension = 'jpg'\n",
    "            p = re.compile('(.*) ([0-9]{2}\\.jpg)')\n",
    "            m = p.match(image_name)\n",
    "            if m is None:\n",
    "                image_name = image_subject + ' 01.' + image_extension\n",
    "            else :\n",
    "                counter = int(m.group(2)[:2]) + 1\n",
    "                image_name = '{} {:02d}.{}'.format(m.group(1), counter, image_extension)\n",
    "\n",
    "            if pb.Page(commons_site, image_name, ns=6).exists():\n",
    "                print (\"Image name ({0}) already used in Commons. Finding a new name\".format(image_name))\n",
    "                used_names.append(image_name)\n",
    "        else :\n",
    "            print (\"Preparing to upload image with name {0}\".format(image_name))\n",
    "            used_names.append(image_name)\n",
    "            break\n",
    "\n",
    "    # Image upload\n",
    "    vars[\"description\"] = description_list[i]\n",
    "    vars[\"author\"] = author_list[i]\n",
    "    if 'Sendra' in author_list[i]:\n",
    "        categories.append('Photographs by César P. Sendra')\n",
    "    elif 'Cuadrado' in author_list[i]:\n",
    "        categories.append('Photographs by J. M. Cuadrado')\n",
    "    elif 'Crespo' in author_list[i]:\n",
    "        categories.append('Photographs by Diego Crespo')\n",
    "    categories = list(set(categories))\n",
    "    #print (categories)\n",
    "    vars[\"cat_string\"] = '\\n'.join(['[[Category:'+i+']]' for i in categories])\n",
    "    t = Template(template)\n",
    "    _text = t.render(**vars)\n",
    "\n",
    "    bot = UploadRobot([image_path],\n",
    "                      description = _text,\n",
    "                      useFilename = image_name,\n",
    "                      keepFilename = True,\n",
    "                      verifyDescription = False,\n",
    "                      ignoreWarning = True,\n",
    "                      targetSite = commons_site)\n",
    "    bot.run()\n",
    "    os.remove(image_path)"
   ]
  },
  {
   "cell_type": "code",
   "execution_count": null,
   "metadata": {
    "collapsed": true
   },
   "outputs": [],
   "source": []
  }
 ],
 "metadata": {
  "kernelspec": {
   "display_name": "Python3.6",
   "language": "python",
   "name": "py36"
  },
  "language_info": {
   "codemirror_mode": {
    "name": "ipython",
    "version": 3
   },
   "file_extension": ".py",
   "mimetype": "text/x-python",
   "name": "python",
   "nbconvert_exporter": "python",
   "pygments_lexer": "ipython3",
   "version": "3.6.5"
  }
 },
 "nbformat": 4,
 "nbformat_minor": 2
}
